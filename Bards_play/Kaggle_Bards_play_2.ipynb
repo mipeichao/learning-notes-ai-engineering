{
 "cells": [
  {
   "metadata": {},
   "cell_type": "markdown",
   "source": [
    "This program uses the Tiny Shakespeare dataset to explore data preprocessing techniques. At the end, I include two discussions inspired by Google AI:<br>\n",
    "\n",
    "Should tokenization of an NLP dataset be done row by row?<br>\n",
    "\n",
    "Should punctuation be handled before or after tokenization?<br>\n",
    "\n"
   ],
   "id": "702a6135ae7b4fa4"
  },
  {
   "metadata": {},
   "cell_type": "markdown",
   "source": [
    "References:<br>\n",
    "[All  Engineering  Machine Learning\n",
    "What are the most effective ways to train and test NLP models on different datasets?](https://www.linkedin.com/advice/3/what-most-effective-ways-train-test-nlp-models-rb3ke)<br>\n",
    "[Key Steps in Text Preprocessing + Hands-on with Python](https://pub.towardsai.net/text-preprocessing-for-nlp-a-step-by-step-guide-to-clean-raw-text-data-2bb8918a4e2c)<br>\n",
    "[Do we need to pre-process both the test and train data set?\n",
    "](https://datascience.stackexchange.com/questions/103211/do-we-need-to-pre-process-both-the-test-and-train-data-set)<br>\n",
    "[Coding tips](https://www.cs.williams.edu/~kkeith/teaching/s23/cs375/attach/shakespeare-gen.html)"
   ],
   "id": "778722865fe03166"
  },
  {
   "metadata": {},
   "cell_type": "markdown",
   "source": [
    "Tokenization: Split text into individual words or tokens.<br>\n",
    "Lowercasing: Convert all text to lowercase to ensure consistency.<br>\n",
    "Removing Noise: Eliminate irrelevant characters, punctuation, or special symbols.<br>\n",
    "Stopword Removal: Exclude common words like \"and\", \"the\", etc., which don't contribute much to meaning.<br>\n",
    "Stemming or Lemmatization: Reduce words to their root form to normalize variations (e.g., \"running\" to \"run\").<br>\n",
    "Handling Numerical Data: Convert numbers to a standard format if necessary.<br>\n",
    "Handling Rare Words: Replace rare or misspelled words with a special token or correct them.<br>\n",
    "Padding or Truncation: Make all sequences uniform in length by adding padding or truncating.<br>"
   ],
   "id": "1e350279c36fa26f"
  },
  {
   "cell_type": "code",
   "id": "initial_id",
   "metadata": {
    "collapsed": true,
    "ExecuteTime": {
     "end_time": "2025-08-27T07:56:37.672629Z",
     "start_time": "2025-08-27T07:55:22.702396Z"
    }
   },
   "source": [
    "!pip install pandas\n",
    "!pip install nltk\n",
    "!pip install string\n",
    "!pip install re\n",
    "!pip install spacy\n",
    "!python -m spacy download en_core_web_sm\n",
    "!pip install emoji"
   ],
   "outputs": [
    {
     "name": "stdout",
     "output_type": "stream",
     "text": [
      "Requirement already satisfied: pandas in c:\\users\\mihai\\pycharmprojects\\bards_play\\.venv\\lib\\site-packages (2.3.2)\n",
      "Requirement already satisfied: numpy>=1.26.0 in c:\\users\\mihai\\pycharmprojects\\bards_play\\.venv\\lib\\site-packages (from pandas) (2.3.2)\n",
      "Requirement already satisfied: python-dateutil>=2.8.2 in c:\\users\\mihai\\pycharmprojects\\bards_play\\.venv\\lib\\site-packages (from pandas) (2.9.0.post0)\n",
      "Requirement already satisfied: pytz>=2020.1 in c:\\users\\mihai\\pycharmprojects\\bards_play\\.venv\\lib\\site-packages (from pandas) (2025.2)\n",
      "Requirement already satisfied: tzdata>=2022.7 in c:\\users\\mihai\\pycharmprojects\\bards_play\\.venv\\lib\\site-packages (from pandas) (2025.2)\n",
      "Requirement already satisfied: six>=1.5 in c:\\users\\mihai\\pycharmprojects\\bards_play\\.venv\\lib\\site-packages (from python-dateutil>=2.8.2->pandas) (1.17.0)\n"
     ]
    },
    {
     "name": "stderr",
     "output_type": "stream",
     "text": [
      "\n",
      "[notice] A new release of pip is available: 25.1.1 -> 25.2\n",
      "[notice] To update, run: python.exe -m pip install --upgrade pip\n"
     ]
    },
    {
     "name": "stdout",
     "output_type": "stream",
     "text": [
      "Requirement already satisfied: nltk in c:\\users\\mihai\\pycharmprojects\\bards_play\\.venv\\lib\\site-packages (3.9.1)\n",
      "Requirement already satisfied: click in c:\\users\\mihai\\pycharmprojects\\bards_play\\.venv\\lib\\site-packages (from nltk) (8.2.1)\n",
      "Requirement already satisfied: joblib in c:\\users\\mihai\\pycharmprojects\\bards_play\\.venv\\lib\\site-packages (from nltk) (1.5.1)\n",
      "Requirement already satisfied: regex>=2021.8.3 in c:\\users\\mihai\\pycharmprojects\\bards_play\\.venv\\lib\\site-packages (from nltk) (2025.7.34)\n",
      "Requirement already satisfied: tqdm in c:\\users\\mihai\\pycharmprojects\\bards_play\\.venv\\lib\\site-packages (from nltk) (4.67.1)\n",
      "Requirement already satisfied: colorama in c:\\users\\mihai\\pycharmprojects\\bards_play\\.venv\\lib\\site-packages (from click->nltk) (0.4.6)\n"
     ]
    },
    {
     "name": "stderr",
     "output_type": "stream",
     "text": [
      "\n",
      "[notice] A new release of pip is available: 25.1.1 -> 25.2\n",
      "[notice] To update, run: python.exe -m pip install --upgrade pip\n",
      "ERROR: Could not find a version that satisfies the requirement string (from versions: none)\n",
      "\n",
      "[notice] A new release of pip is available: 25.1.1 -> 25.2\n",
      "[notice] To update, run: python.exe -m pip install --upgrade pip\n",
      "ERROR: No matching distribution found for string\n",
      "ERROR: Could not find a version that satisfies the requirement re (from versions: none)\n",
      "\n",
      "[notice] A new release of pip is available: 25.1.1 -> 25.2\n",
      "[notice] To update, run: python.exe -m pip install --upgrade pip\n",
      "ERROR: No matching distribution found for re\n"
     ]
    },
    {
     "name": "stdout",
     "output_type": "stream",
     "text": [
      "Requirement already satisfied: spacy in c:\\users\\mihai\\pycharmprojects\\bards_play\\.venv\\lib\\site-packages (3.8.7)\n",
      "Requirement already satisfied: spacy-legacy<3.1.0,>=3.0.11 in c:\\users\\mihai\\pycharmprojects\\bards_play\\.venv\\lib\\site-packages (from spacy) (3.0.12)\n",
      "Requirement already satisfied: spacy-loggers<2.0.0,>=1.0.0 in c:\\users\\mihai\\pycharmprojects\\bards_play\\.venv\\lib\\site-packages (from spacy) (1.0.5)\n",
      "Requirement already satisfied: murmurhash<1.1.0,>=0.28.0 in c:\\users\\mihai\\pycharmprojects\\bards_play\\.venv\\lib\\site-packages (from spacy) (1.0.13)\n",
      "Requirement already satisfied: cymem<2.1.0,>=2.0.2 in c:\\users\\mihai\\pycharmprojects\\bards_play\\.venv\\lib\\site-packages (from spacy) (2.0.11)\n",
      "Requirement already satisfied: preshed<3.1.0,>=3.0.2 in c:\\users\\mihai\\pycharmprojects\\bards_play\\.venv\\lib\\site-packages (from spacy) (3.0.10)\n",
      "Requirement already satisfied: thinc<8.4.0,>=8.3.4 in c:\\users\\mihai\\pycharmprojects\\bards_play\\.venv\\lib\\site-packages (from spacy) (8.3.6)\n",
      "Requirement already satisfied: wasabi<1.2.0,>=0.9.1 in c:\\users\\mihai\\pycharmprojects\\bards_play\\.venv\\lib\\site-packages (from spacy) (1.1.3)\n",
      "Requirement already satisfied: srsly<3.0.0,>=2.4.3 in c:\\users\\mihai\\pycharmprojects\\bards_play\\.venv\\lib\\site-packages (from spacy) (2.5.1)\n",
      "Requirement already satisfied: catalogue<2.1.0,>=2.0.6 in c:\\users\\mihai\\pycharmprojects\\bards_play\\.venv\\lib\\site-packages (from spacy) (2.0.10)\n",
      "Requirement already satisfied: weasel<0.5.0,>=0.1.0 in c:\\users\\mihai\\pycharmprojects\\bards_play\\.venv\\lib\\site-packages (from spacy) (0.4.1)\n",
      "Requirement already satisfied: typer<1.0.0,>=0.3.0 in c:\\users\\mihai\\pycharmprojects\\bards_play\\.venv\\lib\\site-packages (from spacy) (0.16.1)\n",
      "Requirement already satisfied: tqdm<5.0.0,>=4.38.0 in c:\\users\\mihai\\pycharmprojects\\bards_play\\.venv\\lib\\site-packages (from spacy) (4.67.1)\n",
      "Requirement already satisfied: numpy>=1.19.0 in c:\\users\\mihai\\pycharmprojects\\bards_play\\.venv\\lib\\site-packages (from spacy) (2.3.2)\n",
      "Requirement already satisfied: requests<3.0.0,>=2.13.0 in c:\\users\\mihai\\pycharmprojects\\bards_play\\.venv\\lib\\site-packages (from spacy) (2.32.5)\n",
      "Requirement already satisfied: pydantic!=1.8,!=1.8.1,<3.0.0,>=1.7.4 in c:\\users\\mihai\\pycharmprojects\\bards_play\\.venv\\lib\\site-packages (from spacy) (2.11.7)\n",
      "Requirement already satisfied: jinja2 in c:\\users\\mihai\\pycharmprojects\\bards_play\\.venv\\lib\\site-packages (from spacy) (3.1.6)\n",
      "Requirement already satisfied: setuptools in c:\\users\\mihai\\pycharmprojects\\bards_play\\.venv\\lib\\site-packages (from spacy) (80.9.0)\n",
      "Requirement already satisfied: packaging>=20.0 in c:\\users\\mihai\\pycharmprojects\\bards_play\\.venv\\lib\\site-packages (from spacy) (25.0)\n",
      "Requirement already satisfied: langcodes<4.0.0,>=3.2.0 in c:\\users\\mihai\\pycharmprojects\\bards_play\\.venv\\lib\\site-packages (from spacy) (3.5.0)\n",
      "Requirement already satisfied: language-data>=1.2 in c:\\users\\mihai\\pycharmprojects\\bards_play\\.venv\\lib\\site-packages (from langcodes<4.0.0,>=3.2.0->spacy) (1.3.0)\n",
      "Requirement already satisfied: annotated-types>=0.6.0 in c:\\users\\mihai\\pycharmprojects\\bards_play\\.venv\\lib\\site-packages (from pydantic!=1.8,!=1.8.1,<3.0.0,>=1.7.4->spacy) (0.7.0)\n",
      "Requirement already satisfied: pydantic-core==2.33.2 in c:\\users\\mihai\\pycharmprojects\\bards_play\\.venv\\lib\\site-packages (from pydantic!=1.8,!=1.8.1,<3.0.0,>=1.7.4->spacy) (2.33.2)\n",
      "Requirement already satisfied: typing-extensions>=4.12.2 in c:\\users\\mihai\\pycharmprojects\\bards_play\\.venv\\lib\\site-packages (from pydantic!=1.8,!=1.8.1,<3.0.0,>=1.7.4->spacy) (4.15.0)\n",
      "Requirement already satisfied: typing-inspection>=0.4.0 in c:\\users\\mihai\\pycharmprojects\\bards_play\\.venv\\lib\\site-packages (from pydantic!=1.8,!=1.8.1,<3.0.0,>=1.7.4->spacy) (0.4.1)\n",
      "Requirement already satisfied: charset_normalizer<4,>=2 in c:\\users\\mihai\\pycharmprojects\\bards_play\\.venv\\lib\\site-packages (from requests<3.0.0,>=2.13.0->spacy) (3.4.3)\n",
      "Requirement already satisfied: idna<4,>=2.5 in c:\\users\\mihai\\pycharmprojects\\bards_play\\.venv\\lib\\site-packages (from requests<3.0.0,>=2.13.0->spacy) (3.10)\n",
      "Requirement already satisfied: urllib3<3,>=1.21.1 in c:\\users\\mihai\\pycharmprojects\\bards_play\\.venv\\lib\\site-packages (from requests<3.0.0,>=2.13.0->spacy) (2.5.0)\n",
      "Requirement already satisfied: certifi>=2017.4.17 in c:\\users\\mihai\\pycharmprojects\\bards_play\\.venv\\lib\\site-packages (from requests<3.0.0,>=2.13.0->spacy) (2025.8.3)\n",
      "Requirement already satisfied: blis<1.4.0,>=1.3.0 in c:\\users\\mihai\\pycharmprojects\\bards_play\\.venv\\lib\\site-packages (from thinc<8.4.0,>=8.3.4->spacy) (1.3.0)\n",
      "Requirement already satisfied: confection<1.0.0,>=0.0.1 in c:\\users\\mihai\\pycharmprojects\\bards_play\\.venv\\lib\\site-packages (from thinc<8.4.0,>=8.3.4->spacy) (0.1.5)\n",
      "Requirement already satisfied: colorama in c:\\users\\mihai\\pycharmprojects\\bards_play\\.venv\\lib\\site-packages (from tqdm<5.0.0,>=4.38.0->spacy) (0.4.6)\n",
      "Requirement already satisfied: click>=8.0.0 in c:\\users\\mihai\\pycharmprojects\\bards_play\\.venv\\lib\\site-packages (from typer<1.0.0,>=0.3.0->spacy) (8.2.1)\n",
      "Requirement already satisfied: shellingham>=1.3.0 in c:\\users\\mihai\\pycharmprojects\\bards_play\\.venv\\lib\\site-packages (from typer<1.0.0,>=0.3.0->spacy) (1.5.4)\n",
      "Requirement already satisfied: rich>=10.11.0 in c:\\users\\mihai\\pycharmprojects\\bards_play\\.venv\\lib\\site-packages (from typer<1.0.0,>=0.3.0->spacy) (14.1.0)\n",
      "Requirement already satisfied: cloudpathlib<1.0.0,>=0.7.0 in c:\\users\\mihai\\pycharmprojects\\bards_play\\.venv\\lib\\site-packages (from weasel<0.5.0,>=0.1.0->spacy) (0.21.1)\n",
      "Requirement already satisfied: smart-open<8.0.0,>=5.2.1 in c:\\users\\mihai\\pycharmprojects\\bards_play\\.venv\\lib\\site-packages (from weasel<0.5.0,>=0.1.0->spacy) (7.3.0.post1)\n",
      "Requirement already satisfied: wrapt in c:\\users\\mihai\\pycharmprojects\\bards_play\\.venv\\lib\\site-packages (from smart-open<8.0.0,>=5.2.1->weasel<0.5.0,>=0.1.0->spacy) (1.17.3)\n",
      "Requirement already satisfied: marisa-trie>=1.1.0 in c:\\users\\mihai\\pycharmprojects\\bards_play\\.venv\\lib\\site-packages (from language-data>=1.2->langcodes<4.0.0,>=3.2.0->spacy) (1.3.1)\n",
      "Requirement already satisfied: markdown-it-py>=2.2.0 in c:\\users\\mihai\\pycharmprojects\\bards_play\\.venv\\lib\\site-packages (from rich>=10.11.0->typer<1.0.0,>=0.3.0->spacy) (4.0.0)\n",
      "Requirement already satisfied: pygments<3.0.0,>=2.13.0 in c:\\users\\mihai\\pycharmprojects\\bards_play\\.venv\\lib\\site-packages (from rich>=10.11.0->typer<1.0.0,>=0.3.0->spacy) (2.19.2)\n",
      "Requirement already satisfied: mdurl~=0.1 in c:\\users\\mihai\\pycharmprojects\\bards_play\\.venv\\lib\\site-packages (from markdown-it-py>=2.2.0->rich>=10.11.0->typer<1.0.0,>=0.3.0->spacy) (0.1.2)\n",
      "Requirement already satisfied: MarkupSafe>=2.0 in c:\\users\\mihai\\pycharmprojects\\bards_play\\.venv\\lib\\site-packages (from jinja2->spacy) (3.0.2)\n"
     ]
    },
    {
     "name": "stderr",
     "output_type": "stream",
     "text": [
      "\n",
      "[notice] A new release of pip is available: 25.1.1 -> 25.2\n",
      "[notice] To update, run: python.exe -m pip install --upgrade pip\n"
     ]
    },
    {
     "name": "stdout",
     "output_type": "stream",
     "text": [
      "Collecting en-core-web-sm==3.8.0\n",
      "  Downloading https://github.com/explosion/spacy-models/releases/download/en_core_web_sm-3.8.0/en_core_web_sm-3.8.0-py3-none-any.whl (12.8 MB)\n",
      "     ---------------------------------------- 0.0/12.8 MB ? eta -:--:--\n",
      "     ---------------------------------------- 0.0/12.8 MB ? eta -:--:--\n",
      "     ---------------------------------------- 0.0/12.8 MB ? eta -:--:--\n",
      "     ---------------------------------------- 0.0/12.8 MB ? eta -:--:--\n",
      "     ---------------------------------------- 0.0/12.8 MB ? eta -:--:--\n",
      "     ---------------------------------------- 0.0/12.8 MB ? eta -:--:--\n",
      "      --------------------------------------- 0.3/12.8 MB ? eta -:--:--\n",
      "      --------------------------------------- 0.3/12.8 MB ? eta -:--:--\n",
      "      --------------------------------------- 0.3/12.8 MB ? eta -:--:--\n",
      "      --------------------------------------- 0.3/12.8 MB ? eta -:--:--\n",
      "      --------------------------------------- 0.3/12.8 MB ? eta -:--:--\n",
      "      --------------------------------------- 0.3/12.8 MB ? eta -:--:--\n",
      "      --------------------------------------- 0.3/12.8 MB ? eta -:--:--\n",
      "      --------------------------------------- 0.3/12.8 MB ? eta -:--:--\n",
      "      --------------------------------------- 0.3/12.8 MB ? eta -:--:--\n",
      "      --------------------------------------- 0.3/12.8 MB ? eta -:--:--\n",
      "     - ------------------------------------- 0.5/12.8 MB 123.9 kB/s eta 0:01:40\n",
      "     - ------------------------------------- 0.5/12.8 MB 123.9 kB/s eta 0:01:40\n",
      "     - ------------------------------------- 0.5/12.8 MB 123.9 kB/s eta 0:01:40\n",
      "     - ------------------------------------- 0.5/12.8 MB 123.9 kB/s eta 0:01:40\n",
      "     - ------------------------------------- 0.5/12.8 MB 123.9 kB/s eta 0:01:40\n",
      "     - ------------------------------------- 0.5/12.8 MB 123.9 kB/s eta 0:01:40\n",
      "     - ------------------------------------- 0.5/12.8 MB 123.9 kB/s eta 0:01:40\n",
      "     - ------------------------------------- 0.5/12.8 MB 123.9 kB/s eta 0:01:40\n",
      "     - ------------------------------------- 0.5/12.8 MB 123.9 kB/s eta 0:01:40\n",
      "     - ------------------------------------- 0.5/12.8 MB 123.9 kB/s eta 0:01:40\n",
      "     - ------------------------------------- 0.5/12.8 MB 123.9 kB/s eta 0:01:40\n",
      "     - ------------------------------------- 0.5/12.8 MB 123.9 kB/s eta 0:01:40\n",
      "     - ------------------------------------- 0.5/12.8 MB 123.9 kB/s eta 0:01:40\n",
      "     - ------------------------------------- 0.5/12.8 MB 123.9 kB/s eta 0:01:40\n",
      "     -- ------------------------------------ 0.8/12.8 MB 104.5 kB/s eta 0:01:56\n",
      "     -- ------------------------------------ 0.8/12.8 MB 104.5 kB/s eta 0:01:56\n",
      "     -- ------------------------------------ 0.8/12.8 MB 104.5 kB/s eta 0:01:56\n",
      "     -- ------------------------------------ 0.8/12.8 MB 104.5 kB/s eta 0:01:56\n",
      "     -- ------------------------------------ 0.8/12.8 MB 104.5 kB/s eta 0:01:56\n",
      "     -- ------------------------------------ 0.8/12.8 MB 104.5 kB/s eta 0:01:56\n",
      "     -- ------------------------------------ 0.8/12.8 MB 104.5 kB/s eta 0:01:56\n",
      "     -- ------------------------------------ 0.8/12.8 MB 104.5 kB/s eta 0:01:56\n",
      "     -- ------------------------------------ 0.8/12.8 MB 104.5 kB/s eta 0:01:56\n",
      "     -- ------------------------------------ 0.8/12.8 MB 104.5 kB/s eta 0:01:56\n",
      "     -- ------------------------------------ 0.8/12.8 MB 104.5 kB/s eta 0:01:56\n",
      "     -- ------------------------------------ 0.8/12.8 MB 104.5 kB/s eta 0:01:56\n",
      "     -- ------------------------------------ 0.8/12.8 MB 104.5 kB/s eta 0:01:56\n",
      "     -- ------------------------------------ 0.8/12.8 MB 104.5 kB/s eta 0:01:56\n",
      "     -- ------------------------------------ 0.8/12.8 MB 104.5 kB/s eta 0:01:56\n",
      "     -- ------------------------------------ 0.8/12.8 MB 104.5 kB/s eta 0:01:56\n",
      "     --- ------------------------------------ 1.0/12.8 MB 92.2 kB/s eta 0:02:08\n",
      "     --- ------------------------------------ 1.0/12.8 MB 92.2 kB/s eta 0:02:08\n",
      "     --- ------------------------------------ 1.0/12.8 MB 92.2 kB/s eta 0:02:08\n",
      "     --- ------------------------------------ 1.0/12.8 MB 92.2 kB/s eta 0:02:08\n",
      "     --- ------------------------------------ 1.0/12.8 MB 92.2 kB/s eta 0:02:08\n",
      "     --- ------------------------------------ 1.0/12.8 MB 92.2 kB/s eta 0:02:08\n",
      "     --- ------------------------------------ 1.0/12.8 MB 92.2 kB/s eta 0:02:08\n",
      "     --- ------------------------------------ 1.0/12.8 MB 92.2 kB/s eta 0:02:08\n",
      "     --- ------------------------------------ 1.0/12.8 MB 92.2 kB/s eta 0:02:08\n",
      "     --- ------------------------------------ 1.0/12.8 MB 92.2 kB/s eta 0:02:08\n",
      "     --- ------------------------------------ 1.0/12.8 MB 92.2 kB/s eta 0:02:08\n",
      "     --- ------------------------------------ 1.0/12.8 MB 92.2 kB/s eta 0:02:08\n",
      "     --- ------------------------------------ 1.0/12.8 MB 92.2 kB/s eta 0:02:08\n",
      "     --- ------------------------------------ 1.0/12.8 MB 92.2 kB/s eta 0:02:08\n",
      "     --- ------------------------------------ 1.0/12.8 MB 92.2 kB/s eta 0:02:08\n",
      "     --- ------------------------------------ 1.0/12.8 MB 92.2 kB/s eta 0:02:08\n",
      "     ---- ----------------------------------- 1.3/12.8 MB 88.0 kB/s eta 0:02:11\n",
      "     ---- ----------------------------------- 1.3/12.8 MB 88.0 kB/s eta 0:02:11\n",
      "     ---- ----------------------------------- 1.3/12.8 MB 88.0 kB/s eta 0:02:11\n",
      "     ---- ----------------------------------- 1.3/12.8 MB 88.0 kB/s eta 0:02:11\n",
      "     ---- ----------------------------------- 1.3/12.8 MB 88.0 kB/s eta 0:02:11\n",
      "     ---- ----------------------------------- 1.3/12.8 MB 88.0 kB/s eta 0:02:11\n",
      "     ---- ----------------------------------- 1.3/12.8 MB 88.0 kB/s eta 0:02:11\n",
      "     ---- ----------------------------------- 1.3/12.8 MB 88.0 kB/s eta 0:02:11\n",
      "     ---- ----------------------------------- 1.3/12.8 MB 88.0 kB/s eta 0:02:11\n",
      "     ---- ----------------------------------- 1.3/12.8 MB 88.0 kB/s eta 0:02:11\n",
      "     ---- ----------------------------------- 1.3/12.8 MB 88.0 kB/s eta 0:02:11\n",
      "     ---- ----------------------------------- 1.3/12.8 MB 88.0 kB/s eta 0:02:11\n",
      "     ---- ----------------------------------- 1.3/12.8 MB 88.0 kB/s eta 0:02:11\n",
      "     ---- ----------------------------------- 1.6/12.8 MB 90.4 kB/s eta 0:02:05\n",
      "     ---- ----------------------------------- 1.6/12.8 MB 90.4 kB/s eta 0:02:05\n",
      "     ---- ----------------------------------- 1.6/12.8 MB 90.4 kB/s eta 0:02:05\n",
      "     ---- ----------------------------------- 1.6/12.8 MB 90.4 kB/s eta 0:02:05\n",
      "     ---- ----------------------------------- 1.6/12.8 MB 90.4 kB/s eta 0:02:05\n",
      "     ---- ----------------------------------- 1.6/12.8 MB 90.4 kB/s eta 0:02:05\n",
      "     ---- ----------------------------------- 1.6/12.8 MB 90.4 kB/s eta 0:02:05\n",
      "     ---- ----------------------------------- 1.6/12.8 MB 90.4 kB/s eta 0:02:05\n",
      "     ---- ----------------------------------- 1.6/12.8 MB 90.4 kB/s eta 0:02:05\n",
      "     ---- ----------------------------------- 1.6/12.8 MB 90.4 kB/s eta 0:02:05\n",
      "     ---- ----------------------------------- 1.6/12.8 MB 90.4 kB/s eta 0:02:05\n",
      "     ---- ----------------------------------- 1.6/12.8 MB 90.4 kB/s eta 0:02:05\n",
      "     ---- ----------------------------------- 1.6/12.8 MB 90.4 kB/s eta 0:02:05\n",
      "     ---- ----------------------------------- 1.6/12.8 MB 90.4 kB/s eta 0:02:05\n",
      "     ---- ----------------------------------- 1.6/12.8 MB 90.4 kB/s eta 0:02:05\n",
      "     ---- ----------------------------------- 1.6/12.8 MB 90.4 kB/s eta 0:02:05\n",
      "     ---- ----------------------------------- 1.6/12.8 MB 90.4 kB/s eta 0:02:05\n",
      "     ---- ----------------------------------- 1.6/12.8 MB 90.4 kB/s eta 0:02:05\n",
      "     ----- ---------------------------------- 1.8/12.8 MB 85.3 kB/s eta 0:02:09\n",
      "     ----- ---------------------------------- 1.8/12.8 MB 85.3 kB/s eta 0:02:09\n",
      "     ----- ---------------------------------- 1.8/12.8 MB 85.3 kB/s eta 0:02:09\n",
      "     ----- ---------------------------------- 1.8/12.8 MB 85.3 kB/s eta 0:02:09\n",
      "     ----- ---------------------------------- 1.8/12.8 MB 85.3 kB/s eta 0:02:09\n",
      "     ----- ---------------------------------- 1.8/12.8 MB 85.3 kB/s eta 0:02:09\n",
      "     ----- ---------------------------------- 1.8/12.8 MB 85.3 kB/s eta 0:02:09\n",
      "     ----- ---------------------------------- 1.8/12.8 MB 85.3 kB/s eta 0:02:09\n",
      "     ----- ---------------------------------- 1.8/12.8 MB 85.3 kB/s eta 0:02:09\n",
      "     ----- ---------------------------------- 1.8/12.8 MB 85.3 kB/s eta 0:02:09\n",
      "     ----- ---------------------------------- 1.8/12.8 MB 85.3 kB/s eta 0:02:09\n",
      "     ----- ---------------------------------- 1.8/12.8 MB 85.3 kB/s eta 0:02:09\n",
      "     ----- ---------------------------------- 1.8/12.8 MB 85.3 kB/s eta 0:02:09\n",
      "     ----- ---------------------------------- 1.8/12.8 MB 85.3 kB/s eta 0:02:09\n",
      "     ----- ---------------------------------- 1.8/12.8 MB 85.3 kB/s eta 0:02:09\n",
      "     ----- ---------------------------------- 1.8/12.8 MB 85.3 kB/s eta 0:02:09\n",
      "     ----- ---------------------------------- 1.8/12.8 MB 85.3 kB/s eta 0:02:09\n",
      "     ----- ---------------------------------- 1.8/12.8 MB 85.3 kB/s eta 0:02:09\n",
      "     ----- ---------------------------------- 1.8/12.8 MB 85.3 kB/s eta 0:02:09\n",
      "     ----- ---------------------------------- 1.8/12.8 MB 85.3 kB/s eta 0:02:09\n",
      "     ----- ---------------------------------- 1.8/12.8 MB 85.3 kB/s eta 0:02:09\n",
      "     ------ --------------------------------- 2.1/12.8 MB 80.5 kB/s eta 0:02:13\n",
      "     ------ --------------------------------- 2.1/12.8 MB 80.5 kB/s eta 0:02:13\n",
      "     ------ --------------------------------- 2.1/12.8 MB 80.5 kB/s eta 0:02:13\n",
      "     ------ --------------------------------- 2.1/12.8 MB 80.5 kB/s eta 0:02:13\n",
      "     ------ --------------------------------- 2.1/12.8 MB 80.5 kB/s eta 0:02:13\n",
      "     ------ --------------------------------- 2.1/12.8 MB 80.5 kB/s eta 0:02:13\n",
      "     ------ --------------------------------- 2.1/12.8 MB 80.5 kB/s eta 0:02:13\n",
      "     ------ --------------------------------- 2.1/12.8 MB 80.5 kB/s eta 0:02:13\n",
      "     ------ --------------------------------- 2.1/12.8 MB 80.5 kB/s eta 0:02:13\n",
      "     ------ --------------------------------- 2.1/12.8 MB 80.5 kB/s eta 0:02:13\n",
      "     ------ --------------------------------- 2.1/12.8 MB 80.5 kB/s eta 0:02:13\n",
      "     ------ --------------------------------- 2.1/12.8 MB 80.5 kB/s eta 0:02:13\n",
      "     ------ --------------------------------- 2.1/12.8 MB 80.5 kB/s eta 0:02:13\n",
      "     ------ --------------------------------- 2.1/12.8 MB 80.5 kB/s eta 0:02:13\n",
      "     ------ --------------------------------- 2.1/12.8 MB 80.5 kB/s eta 0:02:13\n",
      "     ------ --------------------------------- 2.1/12.8 MB 80.5 kB/s eta 0:02:13\n",
      "     ------ --------------------------------- 2.1/12.8 MB 80.5 kB/s eta 0:02:13\n",
      "     ------- -------------------------------- 2.4/12.8 MB 79.3 kB/s eta 0:02:12\n",
      "     ------- -------------------------------- 2.4/12.8 MB 79.3 kB/s eta 0:02:12\n",
      "     ------- -------------------------------- 2.4/12.8 MB 79.3 kB/s eta 0:02:12\n",
      "     ------- -------------------------------- 2.4/12.8 MB 79.3 kB/s eta 0:02:12\n",
      "     ------- -------------------------------- 2.4/12.8 MB 79.3 kB/s eta 0:02:12\n",
      "     ------- -------------------------------- 2.4/12.8 MB 79.3 kB/s eta 0:02:12\n",
      "     ------- -------------------------------- 2.4/12.8 MB 79.3 kB/s eta 0:02:12\n",
      "     ------- -------------------------------- 2.4/12.8 MB 79.3 kB/s eta 0:02:12\n",
      "     ------- -------------------------------- 2.4/12.8 MB 79.3 kB/s eta 0:02:12\n",
      "     ------- -------------------------------- 2.4/12.8 MB 79.3 kB/s eta 0:02:12\n",
      "     ------- -------------------------------- 2.4/12.8 MB 79.3 kB/s eta 0:02:12\n",
      "     ------- -------------------------------- 2.4/12.8 MB 79.3 kB/s eta 0:02:12\n",
      "     ------- -------------------------------- 2.4/12.8 MB 79.3 kB/s eta 0:02:12\n",
      "     ------- -------------------------------- 2.4/12.8 MB 79.3 kB/s eta 0:02:12\n",
      "     ------- -------------------------------- 2.4/12.8 MB 79.3 kB/s eta 0:02:12\n",
      "     ------- -------------------------------- 2.4/12.8 MB 79.3 kB/s eta 0:02:12\n",
      "     ------- -------------------------------- 2.4/12.8 MB 79.3 kB/s eta 0:02:12\n",
      "     ------- -------------------------------- 2.4/12.8 MB 79.3 kB/s eta 0:02:12\n",
      "     -------- ------------------------------- 2.6/12.8 MB 74.6 kB/s eta 0:02:17\n",
      "     -------- ------------------------------- 2.6/12.8 MB 74.6 kB/s eta 0:02:17\n",
      "     -------- ------------------------------- 2.6/12.8 MB 74.6 kB/s eta 0:02:17\n",
      "     -------- ------------------------------- 2.6/12.8 MB 74.6 kB/s eta 0:02:17\n",
      "     -------- ------------------------------- 2.6/12.8 MB 74.6 kB/s eta 0:02:17\n",
      "     -------- ------------------------------- 2.6/12.8 MB 74.6 kB/s eta 0:02:17\n",
      "     -------- ------------------------------- 2.6/12.8 MB 74.6 kB/s eta 0:02:17\n",
      "     -------- ------------------------------- 2.6/12.8 MB 74.6 kB/s eta 0:02:17\n",
      "     -------- ------------------------------- 2.6/12.8 MB 74.6 kB/s eta 0:02:17\n",
      "     -------- ------------------------------- 2.6/12.8 MB 74.6 kB/s eta 0:02:17\n",
      "     -------- ------------------------------- 2.6/12.8 MB 74.6 kB/s eta 0:02:17\n",
      "     -------- ------------------------------- 2.6/12.8 MB 74.6 kB/s eta 0:02:17\n",
      "     -------- ------------------------------- 2.6/12.8 MB 74.6 kB/s eta 0:02:17\n",
      "     -------- ------------------------------- 2.6/12.8 MB 74.6 kB/s eta 0:02:17\n",
      "     -------- ------------------------------- 2.6/12.8 MB 74.6 kB/s eta 0:02:17\n",
      "     -------- ------------------------------- 2.6/12.8 MB 74.6 kB/s eta 0:02:17\n",
      "     -------- ------------------------------- 2.6/12.8 MB 74.6 kB/s eta 0:02:17\n",
      "     -------- ------------------------------- 2.6/12.8 MB 74.6 kB/s eta 0:02:17\n",
      "     -------- ------------------------------- 2.6/12.8 MB 74.6 kB/s eta 0:02:17\n",
      "     -------- ------------------------------- 2.6/12.8 MB 74.6 kB/s eta 0:02:17\n",
      "     -------- ------------------------------- 2.6/12.8 MB 74.6 kB/s eta 0:02:17\n",
      "     -------- ------------------------------- 2.6/12.8 MB 74.6 kB/s eta 0:02:17\n",
      "     -------- ------------------------------- 2.6/12.8 MB 74.6 kB/s eta 0:02:17\n",
      "     --------- ------------------------------ 2.9/12.8 MB 69.9 kB/s eta 0:02:22\n",
      "     --------- ------------------------------ 2.9/12.8 MB 69.9 kB/s eta 0:02:22\n",
      "     --------- ------------------------------ 2.9/12.8 MB 69.9 kB/s eta 0:02:22\n",
      "     --------- ------------------------------ 2.9/12.8 MB 69.9 kB/s eta 0:02:22\n",
      "     --------- ------------------------------ 2.9/12.8 MB 69.9 kB/s eta 0:02:22\n",
      "     --------- ------------------------------ 2.9/12.8 MB 69.9 kB/s eta 0:02:22\n",
      "     --------- ------------------------------ 2.9/12.8 MB 69.9 kB/s eta 0:02:22\n",
      "     --------- ------------------------------ 2.9/12.8 MB 69.9 kB/s eta 0:02:22\n",
      "     --------- ------------------------------ 2.9/12.8 MB 69.9 kB/s eta 0:02:22\n",
      "     --------- ------------------------------ 2.9/12.8 MB 69.9 kB/s eta 0:02:22\n",
      "     --------- ------------------------------ 2.9/12.8 MB 69.9 kB/s eta 0:02:22\n",
      "     --------- ------------------------------ 3.1/12.8 MB 72.4 kB/s eta 0:02:14\n",
      "     --------- ------------------------------ 3.1/12.8 MB 72.4 kB/s eta 0:02:14\n",
      "     --------- ------------------------------ 3.1/12.8 MB 72.4 kB/s eta 0:02:14\n",
      "     --------- ------------------------------ 3.1/12.8 MB 72.4 kB/s eta 0:02:14\n",
      "     --------- ------------------------------ 3.1/12.8 MB 72.4 kB/s eta 0:02:14\n",
      "     --------- ------------------------------ 3.1/12.8 MB 72.4 kB/s eta 0:02:14\n",
      "     --------- ------------------------------ 3.1/12.8 MB 72.4 kB/s eta 0:02:14\n",
      "     --------- ------------------------------ 3.1/12.8 MB 72.4 kB/s eta 0:02:14\n",
      "     --------- ------------------------------ 3.1/12.8 MB 72.4 kB/s eta 0:02:14\n",
      "     --------- ------------------------------ 3.1/12.8 MB 72.4 kB/s eta 0:02:14\n",
      "     --------- ------------------------------ 3.1/12.8 MB 72.4 kB/s eta 0:02:14\n",
      "     --------- ------------------------------ 3.1/12.8 MB 72.4 kB/s eta 0:02:14\n",
      "     --------- ------------------------------ 3.1/12.8 MB 72.4 kB/s eta 0:02:14\n",
      "     --------- ------------------------------ 3.1/12.8 MB 72.4 kB/s eta 0:02:14\n",
      "     --------- ------------------------------ 3.1/12.8 MB 72.4 kB/s eta 0:02:14\n",
      "     --------- ------------------------------ 3.1/12.8 MB 72.4 kB/s eta 0:02:14\n",
      "     --------- ------------------------------ 3.1/12.8 MB 72.4 kB/s eta 0:02:14\n",
      "     ---------- ----------------------------- 3.4/12.8 MB 72.2 kB/s eta 0:02:11\n",
      "     ---------- ----------------------------- 3.4/12.8 MB 72.2 kB/s eta 0:02:11\n",
      "     ---------- ----------------------------- 3.4/12.8 MB 72.2 kB/s eta 0:02:11\n",
      "     ---------- ----------------------------- 3.4/12.8 MB 72.2 kB/s eta 0:02:11\n",
      "     ---------- ----------------------------- 3.4/12.8 MB 72.2 kB/s eta 0:02:11\n",
      "     ---------- ----------------------------- 3.4/12.8 MB 72.2 kB/s eta 0:02:11\n",
      "     ---------- ----------------------------- 3.4/12.8 MB 72.2 kB/s eta 0:02:11\n",
      "     ---------- ----------------------------- 3.4/12.8 MB 72.2 kB/s eta 0:02:11\n",
      "     ---------- ----------------------------- 3.4/12.8 MB 72.2 kB/s eta 0:02:11\n",
      "     ---------- ----------------------------- 3.4/12.8 MB 72.2 kB/s eta 0:02:11\n",
      "     ---------- ----------------------------- 3.4/12.8 MB 72.2 kB/s eta 0:02:11\n",
      "     ---------- ----------------------------- 3.4/12.8 MB 72.2 kB/s eta 0:02:11\n",
      "     ---------- ----------------------------- 3.4/12.8 MB 72.2 kB/s eta 0:02:11\n",
      "     ---------- ----------------------------- 3.4/12.8 MB 72.2 kB/s eta 0:02:11\n",
      "     ---------- ----------------------------- 3.4/12.8 MB 72.2 kB/s eta 0:02:11\n",
      "     ----------- ---------------------------- 3.7/12.8 MB 70.8 kB/s eta 0:02:10\n",
      "     ----------- ---------------------------- 3.7/12.8 MB 70.8 kB/s eta 0:02:10\n",
      "     ----------- ---------------------------- 3.7/12.8 MB 70.8 kB/s eta 0:02:10\n",
      "     ----------- ---------------------------- 3.7/12.8 MB 70.8 kB/s eta 0:02:10\n",
      "     ----------- ---------------------------- 3.7/12.8 MB 70.8 kB/s eta 0:02:10\n",
      "     ----------- ---------------------------- 3.7/12.8 MB 70.8 kB/s eta 0:02:10\n",
      "     ----------- ---------------------------- 3.7/12.8 MB 70.8 kB/s eta 0:02:10\n",
      "     ----------- ---------------------------- 3.7/12.8 MB 70.8 kB/s eta 0:02:10\n",
      "     ----------- ---------------------------- 3.7/12.8 MB 70.8 kB/s eta 0:02:10\n",
      "     ----------- ---------------------------- 3.7/12.8 MB 70.8 kB/s eta 0:02:10\n",
      "     ----------- ---------------------------- 3.7/12.8 MB 70.8 kB/s eta 0:02:10\n",
      "     ------------ --------------------------- 3.9/12.8 MB 74.4 kB/s eta 0:02:00\n",
      "     ------------ --------------------------- 3.9/12.8 MB 74.4 kB/s eta 0:02:00\n",
      "     ------------ --------------------------- 3.9/12.8 MB 74.4 kB/s eta 0:02:00\n",
      "     ------------ --------------------------- 3.9/12.8 MB 74.4 kB/s eta 0:02:00\n",
      "     ------------ --------------------------- 3.9/12.8 MB 74.4 kB/s eta 0:02:00\n",
      "     ------------ --------------------------- 3.9/12.8 MB 74.4 kB/s eta 0:02:00\n",
      "     ------------ --------------------------- 3.9/12.8 MB 74.4 kB/s eta 0:02:00\n",
      "     ------------ --------------------------- 3.9/12.8 MB 74.4 kB/s eta 0:02:00\n",
      "     ------------ --------------------------- 3.9/12.8 MB 74.4 kB/s eta 0:02:00\n",
      "     ------------ --------------------------- 3.9/12.8 MB 74.4 kB/s eta 0:02:00\n",
      "     ------------ --------------------------- 3.9/12.8 MB 74.4 kB/s eta 0:02:00\n",
      "     ------------- -------------------------- 4.2/12.8 MB 80.5 kB/s eta 0:01:47\n",
      "     ------------- -------------------------- 4.2/12.8 MB 80.5 kB/s eta 0:01:47\n",
      "     ------------- -------------------------- 4.2/12.8 MB 80.5 kB/s eta 0:01:47\n",
      "     ------------- -------------------------- 4.2/12.8 MB 80.5 kB/s eta 0:01:47\n",
      "     ------------- -------------------------- 4.2/12.8 MB 80.5 kB/s eta 0:01:47\n",
      "     ------------- -------------------------- 4.2/12.8 MB 80.5 kB/s eta 0:01:47\n",
      "     ------------- -------------------------- 4.2/12.8 MB 80.5 kB/s eta 0:01:47\n",
      "     ------------- -------------------------- 4.2/12.8 MB 80.5 kB/s eta 0:01:47\n",
      "     ------------- -------------------------- 4.2/12.8 MB 80.5 kB/s eta 0:01:47\n",
      "     ------------- -------------------------- 4.2/12.8 MB 80.5 kB/s eta 0:01:47\n",
      "     ------------- -------------------------- 4.2/12.8 MB 80.5 kB/s eta 0:01:47\n",
      "     ------------- -------------------------- 4.5/12.8 MB 83.3 kB/s eta 0:01:41\n",
      "     ------------- -------------------------- 4.5/12.8 MB 83.3 kB/s eta 0:01:41\n",
      "     ------------- -------------------------- 4.5/12.8 MB 83.3 kB/s eta 0:01:41\n",
      "     ------------- -------------------------- 4.5/12.8 MB 83.3 kB/s eta 0:01:41\n",
      "     ------------- -------------------------- 4.5/12.8 MB 83.3 kB/s eta 0:01:41\n",
      "     ------------- -------------------------- 4.5/12.8 MB 83.3 kB/s eta 0:01:41\n",
      "     ------------- -------------------------- 4.5/12.8 MB 83.3 kB/s eta 0:01:41\n",
      "     ------------- -------------------------- 4.5/12.8 MB 83.3 kB/s eta 0:01:41\n",
      "     ------------- -------------------------- 4.5/12.8 MB 83.3 kB/s eta 0:01:41\n",
      "     ------------- -------------------------- 4.5/12.8 MB 83.3 kB/s eta 0:01:41\n",
      "     ------------- -------------------------- 4.5/12.8 MB 83.3 kB/s eta 0:01:41\n",
      "     -------------- ------------------------- 4.7/12.8 MB 87.1 kB/s eta 0:01:33\n",
      "     -------------- ------------------------- 4.7/12.8 MB 87.1 kB/s eta 0:01:33\n",
      "     -------------- ------------------------- 4.7/12.8 MB 87.1 kB/s eta 0:01:33\n",
      "     -------------- ------------------------- 4.7/12.8 MB 87.1 kB/s eta 0:01:33\n",
      "     -------------- ------------------------- 4.7/12.8 MB 87.1 kB/s eta 0:01:33\n",
      "     -------------- ------------------------- 4.7/12.8 MB 87.1 kB/s eta 0:01:33\n",
      "     --------------- ------------------------ 5.0/12.8 MB 93.0 kB/s eta 0:01:25\n",
      "     --------------- ------------------------ 5.0/12.8 MB 93.0 kB/s eta 0:01:25\n",
      "     --------------- ----------------------- 5.2/12.8 MB 100.4 kB/s eta 0:01:16\n",
      "     --------------- ----------------------- 5.2/12.8 MB 100.4 kB/s eta 0:01:16\n",
      "     ---------------- ---------------------- 5.5/12.8 MB 108.0 kB/s eta 0:01:08\n",
      "     ---------------- ---------------------- 5.5/12.8 MB 108.0 kB/s eta 0:01:08\n",
      "     ----------------- --------------------- 5.8/12.8 MB 115.6 kB/s eta 0:01:01\n",
      "     ------------------ -------------------- 6.0/12.8 MB 123.2 kB/s eta 0:00:56\n",
      "     ------------------ -------------------- 6.0/12.8 MB 123.2 kB/s eta 0:00:56\n",
      "     ------------------- ------------------- 6.3/12.8 MB 139.5 kB/s eta 0:00:47\n",
      "     ------------------- ------------------- 6.6/12.8 MB 148.0 kB/s eta 0:00:43\n",
      "     -------------------- ------------------ 6.8/12.8 MB 156.6 kB/s eta 0:00:39\n",
      "     --------------------- ----------------- 7.1/12.8 MB 164.8 kB/s eta 0:00:35\n",
      "     ---------------------- ---------------- 7.3/12.8 MB 173.1 kB/s eta 0:00:32\n",
      "     ----------------------- --------------- 7.6/12.8 MB 181.4 kB/s eta 0:00:29\n",
      "     ----------------------- --------------- 7.9/12.8 MB 189.7 kB/s eta 0:00:27\n",
      "     ------------------------ -------------- 8.1/12.8 MB 197.8 kB/s eta 0:00:24\n",
      "     -------------------------- ------------ 8.7/12.8 MB 213.9 kB/s eta 0:00:20\n",
      "     --------------------------- ----------- 8.9/12.8 MB 222.0 kB/s eta 0:00:18\n",
      "     --------------------------- ----------- 9.2/12.8 MB 229.9 kB/s eta 0:00:16\n",
      "     ----------------------------- --------- 9.7/12.8 MB 245.7 kB/s eta 0:00:13\n",
      "     ------------------------------ ------- 10.2/12.8 MB 261.8 kB/s eta 0:00:10\n",
      "     ------------------------------- ------ 10.7/12.8 MB 277.7 kB/s eta 0:00:08\n",
      "     --------------------------------- ---- 11.3/12.8 MB 293.6 kB/s eta 0:00:06\n",
      "     ----------------------------------- -- 11.8/12.8 MB 309.6 kB/s eta 0:00:04\n",
      "     -------------------------------------  12.6/12.8 MB 333.4 kB/s eta 0:00:01\n",
      "     -------------------------------------- 12.8/12.8 MB 339.7 kB/s eta 0:00:00\n",
      "\u001B[38;5;2m✔ Download and installation successful\u001B[0m\n",
      "You can now load the package via spacy.load('en_core_web_sm')\n"
     ]
    },
    {
     "name": "stderr",
     "output_type": "stream",
     "text": [
      "\n",
      "[notice] A new release of pip is available: 25.1.1 -> 25.2\n",
      "[notice] To update, run: python.exe -m pip install --upgrade pip\n"
     ]
    },
    {
     "name": "stdout",
     "output_type": "stream",
     "text": [
      "Requirement already satisfied: emoji in c:\\users\\mihai\\pycharmprojects\\bards_play\\.venv\\lib\\site-packages (2.14.1)\n"
     ]
    },
    {
     "name": "stderr",
     "output_type": "stream",
     "text": [
      "\n",
      "[notice] A new release of pip is available: 25.1.1 -> 25.2\n",
      "[notice] To update, run: python.exe -m pip install --upgrade pip\n"
     ]
    }
   ],
   "execution_count": 1
  },
  {
   "metadata": {
    "ExecuteTime": {
     "end_time": "2025-08-27T07:56:38.036170Z",
     "start_time": "2025-08-27T07:56:37.693539Z"
    }
   },
   "cell_type": "code",
   "source": [
    "import pandas as pd\n",
    "import re"
   ],
   "id": "be969786cdf4494d",
   "outputs": [],
   "execution_count": 2
  },
  {
   "metadata": {
    "ExecuteTime": {
     "end_time": "2025-08-27T07:56:38.046942Z",
     "start_time": "2025-08-27T07:56:38.042385Z"
    }
   },
   "cell_type": "code",
   "source": [
    "# Read the origin data and create DataFrame\n",
    "def load_data(file_path):\n",
    "    with open(file_path, 'r', encoding='utf-8') as f:\n",
    "        content = f.read()\n",
    "    lines = re.sub(r'\\d+','', str(content))   # Remove digits\n",
    "    lines = re.sub(r'[^\\w\\s]','', str(lines))   # Remove punctuation\n",
    "    lines = lines.replace('\\r\\n', '\\n').replace('\\r', '\\n').split('\\n')  # Normalize newlines\n",
    "    lines = [line.strip() for line in lines if line.strip()]  # Remove empty lines\n",
    "    return pd.DataFrame({'origin_text': lines})"
   ],
   "id": "a4a92cc1a2840a05",
   "outputs": [],
   "execution_count": 3
  },
  {
   "metadata": {},
   "cell_type": "markdown",
   "source": "`f` is a file object created by the `open()` function. It represents the opened file specified by `file_path`, allowing you to read its contents using methods like `f.read()`.",
   "id": "c9fb6fdb979693af"
  },
  {
   "metadata": {},
   "cell_type": "markdown",
   "source": "This line creates a new list by iterating over each string in lines, removing leading and trailing whitespace with strip(), and including only non-empty lines. It effectively cleans up the list by removing blank or whitespace-only lines.",
   "id": "295f111f324c6165"
  },
  {
   "metadata": {
    "ExecuteTime": {
     "end_time": "2025-08-27T07:56:38.105982Z",
     "start_time": "2025-08-27T07:56:38.052571Z"
    }
   },
   "cell_type": "code",
   "source": [
    "df_train = load_data('train.csv')\n",
    "df_test = load_data('test.csv')\n",
    "df_validation = load_data('validation.csv')\n",
    "\n",
    "from IPython.display import display\n",
    "\n",
    "display(df_train)\n",
    "display(df_test)\n",
    "display(df_validation)"
   ],
   "id": "f4f8fc88080f24a",
   "outputs": [
    {
     "data": {
      "text/plain": [
       "                                       origin_text\n",
       "0                                             text\n",
       "1                                    First Citizen\n",
       "2      Before we proceed any further hear me speak\n",
       "3                                              All\n",
       "4                                      Speak speak\n",
       "...                                            ...\n",
       "29238        Talk not to me I will go sit and weep\n",
       "29239          Till I can find occasion of revenge\n",
       "29240                                     BAPTISTA\n",
       "29241         Was ever gentleman thus grieved as I\n",
       "29242                           But who comes here\n",
       "\n",
       "[29243 rows x 1 columns]"
      ],
      "text/html": [
       "<div>\n",
       "<style scoped>\n",
       "    .dataframe tbody tr th:only-of-type {\n",
       "        vertical-align: middle;\n",
       "    }\n",
       "\n",
       "    .dataframe tbody tr th {\n",
       "        vertical-align: top;\n",
       "    }\n",
       "\n",
       "    .dataframe thead th {\n",
       "        text-align: right;\n",
       "    }\n",
       "</style>\n",
       "<table border=\"1\" class=\"dataframe\">\n",
       "  <thead>\n",
       "    <tr style=\"text-align: right;\">\n",
       "      <th></th>\n",
       "      <th>origin_text</th>\n",
       "    </tr>\n",
       "  </thead>\n",
       "  <tbody>\n",
       "    <tr>\n",
       "      <th>0</th>\n",
       "      <td>text</td>\n",
       "    </tr>\n",
       "    <tr>\n",
       "      <th>1</th>\n",
       "      <td>First Citizen</td>\n",
       "    </tr>\n",
       "    <tr>\n",
       "      <th>2</th>\n",
       "      <td>Before we proceed any further hear me speak</td>\n",
       "    </tr>\n",
       "    <tr>\n",
       "      <th>3</th>\n",
       "      <td>All</td>\n",
       "    </tr>\n",
       "    <tr>\n",
       "      <th>4</th>\n",
       "      <td>Speak speak</td>\n",
       "    </tr>\n",
       "    <tr>\n",
       "      <th>...</th>\n",
       "      <td>...</td>\n",
       "    </tr>\n",
       "    <tr>\n",
       "      <th>29238</th>\n",
       "      <td>Talk not to me I will go sit and weep</td>\n",
       "    </tr>\n",
       "    <tr>\n",
       "      <th>29239</th>\n",
       "      <td>Till I can find occasion of revenge</td>\n",
       "    </tr>\n",
       "    <tr>\n",
       "      <th>29240</th>\n",
       "      <td>BAPTISTA</td>\n",
       "    </tr>\n",
       "    <tr>\n",
       "      <th>29241</th>\n",
       "      <td>Was ever gentleman thus grieved as I</td>\n",
       "    </tr>\n",
       "    <tr>\n",
       "      <th>29242</th>\n",
       "      <td>But who comes here</td>\n",
       "    </tr>\n",
       "  </tbody>\n",
       "</table>\n",
       "<p>29243 rows × 1 columns</p>\n",
       "</div>"
      ]
     },
     "metadata": {},
     "output_type": "display_data"
    },
    {
     "data": {
      "text/plain": [
       "                                        origin_text\n",
       "0                                              text\n",
       "1                                        rance taen\n",
       "2        As shall with either parts agreement stand\n",
       "3                                          BAPTISTA\n",
       "4             Not in my house Lucentio for you know\n",
       "...                                             ...\n",
       "1830                         And yet so fast asleep\n",
       "1831                                        ANTONIO\n",
       "1832                                Noble Sebastian\n",
       "1833  Thou letst thy fortune sleepdie rather winkst\n",
       "1834                         Whiles thou art waking\n",
       "\n",
       "[1835 rows x 1 columns]"
      ],
      "text/html": [
       "<div>\n",
       "<style scoped>\n",
       "    .dataframe tbody tr th:only-of-type {\n",
       "        vertical-align: middle;\n",
       "    }\n",
       "\n",
       "    .dataframe tbody tr th {\n",
       "        vertical-align: top;\n",
       "    }\n",
       "\n",
       "    .dataframe thead th {\n",
       "        text-align: right;\n",
       "    }\n",
       "</style>\n",
       "<table border=\"1\" class=\"dataframe\">\n",
       "  <thead>\n",
       "    <tr style=\"text-align: right;\">\n",
       "      <th></th>\n",
       "      <th>origin_text</th>\n",
       "    </tr>\n",
       "  </thead>\n",
       "  <tbody>\n",
       "    <tr>\n",
       "      <th>0</th>\n",
       "      <td>text</td>\n",
       "    </tr>\n",
       "    <tr>\n",
       "      <th>1</th>\n",
       "      <td>rance taen</td>\n",
       "    </tr>\n",
       "    <tr>\n",
       "      <th>2</th>\n",
       "      <td>As shall with either parts agreement stand</td>\n",
       "    </tr>\n",
       "    <tr>\n",
       "      <th>3</th>\n",
       "      <td>BAPTISTA</td>\n",
       "    </tr>\n",
       "    <tr>\n",
       "      <th>4</th>\n",
       "      <td>Not in my house Lucentio for you know</td>\n",
       "    </tr>\n",
       "    <tr>\n",
       "      <th>...</th>\n",
       "      <td>...</td>\n",
       "    </tr>\n",
       "    <tr>\n",
       "      <th>1830</th>\n",
       "      <td>And yet so fast asleep</td>\n",
       "    </tr>\n",
       "    <tr>\n",
       "      <th>1831</th>\n",
       "      <td>ANTONIO</td>\n",
       "    </tr>\n",
       "    <tr>\n",
       "      <th>1832</th>\n",
       "      <td>Noble Sebastian</td>\n",
       "    </tr>\n",
       "    <tr>\n",
       "      <th>1833</th>\n",
       "      <td>Thou letst thy fortune sleepdie rather winkst</td>\n",
       "    </tr>\n",
       "    <tr>\n",
       "      <th>1834</th>\n",
       "      <td>Whiles thou art waking</td>\n",
       "    </tr>\n",
       "  </tbody>\n",
       "</table>\n",
       "<p>1835 rows × 1 columns</p>\n",
       "</div>"
      ]
     },
     "metadata": {},
     "output_type": "display_data"
    },
    {
     "data": {
      "text/plain": [
       "                                       origin_text\n",
       "0                                             text\n",
       "1                                           GREMIO\n",
       "2                   Good morrow neighbour Baptista\n",
       "3                                         BAPTISTA\n",
       "4                     Good morrow neighbour Gremio\n",
       "...                                            ...\n",
       "1698             The match is made and all is done\n",
       "1699  Your son shall have my daughter with consent\n",
       "1700                                        TRANIO\n",
       "1701   I thank you sir Where then do you know best\n",
       "1702                    We be affied and such assu\n",
       "\n",
       "[1703 rows x 1 columns]"
      ],
      "text/html": [
       "<div>\n",
       "<style scoped>\n",
       "    .dataframe tbody tr th:only-of-type {\n",
       "        vertical-align: middle;\n",
       "    }\n",
       "\n",
       "    .dataframe tbody tr th {\n",
       "        vertical-align: top;\n",
       "    }\n",
       "\n",
       "    .dataframe thead th {\n",
       "        text-align: right;\n",
       "    }\n",
       "</style>\n",
       "<table border=\"1\" class=\"dataframe\">\n",
       "  <thead>\n",
       "    <tr style=\"text-align: right;\">\n",
       "      <th></th>\n",
       "      <th>origin_text</th>\n",
       "    </tr>\n",
       "  </thead>\n",
       "  <tbody>\n",
       "    <tr>\n",
       "      <th>0</th>\n",
       "      <td>text</td>\n",
       "    </tr>\n",
       "    <tr>\n",
       "      <th>1</th>\n",
       "      <td>GREMIO</td>\n",
       "    </tr>\n",
       "    <tr>\n",
       "      <th>2</th>\n",
       "      <td>Good morrow neighbour Baptista</td>\n",
       "    </tr>\n",
       "    <tr>\n",
       "      <th>3</th>\n",
       "      <td>BAPTISTA</td>\n",
       "    </tr>\n",
       "    <tr>\n",
       "      <th>4</th>\n",
       "      <td>Good morrow neighbour Gremio</td>\n",
       "    </tr>\n",
       "    <tr>\n",
       "      <th>...</th>\n",
       "      <td>...</td>\n",
       "    </tr>\n",
       "    <tr>\n",
       "      <th>1698</th>\n",
       "      <td>The match is made and all is done</td>\n",
       "    </tr>\n",
       "    <tr>\n",
       "      <th>1699</th>\n",
       "      <td>Your son shall have my daughter with consent</td>\n",
       "    </tr>\n",
       "    <tr>\n",
       "      <th>1700</th>\n",
       "      <td>TRANIO</td>\n",
       "    </tr>\n",
       "    <tr>\n",
       "      <th>1701</th>\n",
       "      <td>I thank you sir Where then do you know best</td>\n",
       "    </tr>\n",
       "    <tr>\n",
       "      <th>1702</th>\n",
       "      <td>We be affied and such assu</td>\n",
       "    </tr>\n",
       "  </tbody>\n",
       "</table>\n",
       "<p>1703 rows × 1 columns</p>\n",
       "</div>"
      ]
     },
     "metadata": {},
     "output_type": "display_data"
    }
   ],
   "execution_count": 4
  },
  {
   "metadata": {
    "ExecuteTime": {
     "end_time": "2025-08-27T07:56:38.220323Z",
     "start_time": "2025-08-27T07:56:38.217028Z"
    }
   },
   "cell_type": "code",
   "source": [
    "def remove_characters(texts) :\n",
    "    out = [e for e in texts if e[-1]!=\":\" and e!=\"text\"]\n",
    "    return pd.DataFrame({'origin_text': out})"
   ],
   "id": "861a987542fc90aa",
   "outputs": [],
   "execution_count": 5
  },
  {
   "metadata": {
    "ExecuteTime": {
     "end_time": "2025-08-27T07:56:38.303045Z",
     "start_time": "2025-08-27T07:56:38.286710Z"
    }
   },
   "cell_type": "code",
   "source": [
    "df_train1 = remove_characters(df_train[\"origin_text\"])\n",
    "df_test1 = remove_characters(df_test[\"origin_text\"])\n",
    "df_validation1 = remove_characters(df_validation[\"origin_text\"])\n",
    "\n",
    "df_train1"
   ],
   "id": "f38295caf713478a",
   "outputs": [
    {
     "data": {
      "text/plain": [
       "                                       origin_text\n",
       "0                                    First Citizen\n",
       "1      Before we proceed any further hear me speak\n",
       "2                                              All\n",
       "3                                      Speak speak\n",
       "4                                    First Citizen\n",
       "...                                            ...\n",
       "29237        Talk not to me I will go sit and weep\n",
       "29238          Till I can find occasion of revenge\n",
       "29239                                     BAPTISTA\n",
       "29240         Was ever gentleman thus grieved as I\n",
       "29241                           But who comes here\n",
       "\n",
       "[29242 rows x 1 columns]"
      ],
      "text/html": [
       "<div>\n",
       "<style scoped>\n",
       "    .dataframe tbody tr th:only-of-type {\n",
       "        vertical-align: middle;\n",
       "    }\n",
       "\n",
       "    .dataframe tbody tr th {\n",
       "        vertical-align: top;\n",
       "    }\n",
       "\n",
       "    .dataframe thead th {\n",
       "        text-align: right;\n",
       "    }\n",
       "</style>\n",
       "<table border=\"1\" class=\"dataframe\">\n",
       "  <thead>\n",
       "    <tr style=\"text-align: right;\">\n",
       "      <th></th>\n",
       "      <th>origin_text</th>\n",
       "    </tr>\n",
       "  </thead>\n",
       "  <tbody>\n",
       "    <tr>\n",
       "      <th>0</th>\n",
       "      <td>First Citizen</td>\n",
       "    </tr>\n",
       "    <tr>\n",
       "      <th>1</th>\n",
       "      <td>Before we proceed any further hear me speak</td>\n",
       "    </tr>\n",
       "    <tr>\n",
       "      <th>2</th>\n",
       "      <td>All</td>\n",
       "    </tr>\n",
       "    <tr>\n",
       "      <th>3</th>\n",
       "      <td>Speak speak</td>\n",
       "    </tr>\n",
       "    <tr>\n",
       "      <th>4</th>\n",
       "      <td>First Citizen</td>\n",
       "    </tr>\n",
       "    <tr>\n",
       "      <th>...</th>\n",
       "      <td>...</td>\n",
       "    </tr>\n",
       "    <tr>\n",
       "      <th>29237</th>\n",
       "      <td>Talk not to me I will go sit and weep</td>\n",
       "    </tr>\n",
       "    <tr>\n",
       "      <th>29238</th>\n",
       "      <td>Till I can find occasion of revenge</td>\n",
       "    </tr>\n",
       "    <tr>\n",
       "      <th>29239</th>\n",
       "      <td>BAPTISTA</td>\n",
       "    </tr>\n",
       "    <tr>\n",
       "      <th>29240</th>\n",
       "      <td>Was ever gentleman thus grieved as I</td>\n",
       "    </tr>\n",
       "    <tr>\n",
       "      <th>29241</th>\n",
       "      <td>But who comes here</td>\n",
       "    </tr>\n",
       "  </tbody>\n",
       "</table>\n",
       "<p>29242 rows × 1 columns</p>\n",
       "</div>"
      ]
     },
     "execution_count": 6,
     "metadata": {},
     "output_type": "execute_result"
    }
   ],
   "execution_count": 6
  },
  {
   "metadata": {
    "ExecuteTime": {
     "end_time": "2025-08-27T07:56:39.530641Z",
     "start_time": "2025-08-27T07:56:38.343416Z"
    }
   },
   "cell_type": "code",
   "source": [
    "# Batch processing with nlp.pipe for speed\n",
    "import spacy\n",
    "nlp = spacy.load(\"en_core_web_sm\")\n",
    "\n",
    "def remove_named_entities_batch(texts):\n",
    "    cleaned_texts = []\n",
    "    for doc in nlp.pipe(texts, batch_size=32):\n",
    "        cleaned = doc.text\n",
    "        for ent in doc.ents:\n",
    "            if ent.label_ == \"PERSON\":\n",
    "                cleaned = cleaned.replace(ent.text, \"\")\n",
    "        cleaned_texts.append(cleaned)\n",
    "    return cleaned_texts"
   ],
   "id": "d9a2486271aae68b",
   "outputs": [],
   "execution_count": 7
  },
  {
   "metadata": {},
   "cell_type": "markdown",
   "source": [
    "This function removes named entities labeled as \"PERSON\" from a list of texts using spaCy for efficient batch processing.\n",
    "\n",
    "- It uses `nlp.pipe()` to process all texts in batches (faster than processing one by one).\n",
    "- For each document, it replaces any detected person name with `[PERSON]`.\n",
    "- The cleaned texts are collected and returned as a list.\n",
    "\n",
    "This approach is efficient for large datasets and anonymizes person names in the text."
   ],
   "id": "f86fb8b4c3bdef92"
  },
  {
   "metadata": {},
   "cell_type": "markdown",
   "source": [
    "`doc.ents` is a spaCy property that returns a list of named entities detected in a processed text (a `Doc` object). Each entity has attributes like `text` (the entity string) and `label_` (the entity type, e.g., PERSON, ORG).\n",
    "\n",
    "Example:\n",
    "```python\n",
    "import spacy\n",
    "nlp = spacy.load(\"en_core_web_sm\")\n",
    "doc = nlp(\"Barack Obama was born in Hawaii.\")\n",
    "for ent in doc.ents:\n",
    "    print(ent.text, ent.label_)\n",
    "# Output: Barack Obama PERSON, Hawaii GPE\n",
    "```\n",
    "So, `doc.ents` gives you all recognized entities in the text."
   ],
   "id": "e8467143fde317af"
  },
  {
   "metadata": {
    "ExecuteTime": {
     "end_time": "2025-08-27T07:57:05.896152Z",
     "start_time": "2025-08-27T07:56:39.646132Z"
    }
   },
   "cell_type": "code",
   "source": [
    "df_train1['Cleaned_Text'] = remove_named_entities_batch(df_train1['origin_text'])\n",
    "\n",
    "df_train1"
   ],
   "id": "3fde9e5d9f8ef86",
   "outputs": [
    {
     "data": {
      "text/plain": [
       "                                       origin_text  \\\n",
       "0                                    First Citizen   \n",
       "1      Before we proceed any further hear me speak   \n",
       "2                                              All   \n",
       "3                                      Speak speak   \n",
       "4                                    First Citizen   \n",
       "...                                            ...   \n",
       "29237        Talk not to me I will go sit and weep   \n",
       "29238          Till I can find occasion of revenge   \n",
       "29239                                     BAPTISTA   \n",
       "29240         Was ever gentleman thus grieved as I   \n",
       "29241                           But who comes here   \n",
       "\n",
       "                                      Cleaned_Text  \n",
       "0                                    First Citizen  \n",
       "1      Before we proceed any further hear me speak  \n",
       "2                                              All  \n",
       "3                                      Speak speak  \n",
       "4                                    First Citizen  \n",
       "...                                            ...  \n",
       "29237        Talk not to me I will go sit and weep  \n",
       "29238          Till I can find occasion of revenge  \n",
       "29239                                     BAPTISTA  \n",
       "29240         Was ever gentleman thus grieved as I  \n",
       "29241                           But who comes here  \n",
       "\n",
       "[29242 rows x 2 columns]"
      ],
      "text/html": [
       "<div>\n",
       "<style scoped>\n",
       "    .dataframe tbody tr th:only-of-type {\n",
       "        vertical-align: middle;\n",
       "    }\n",
       "\n",
       "    .dataframe tbody tr th {\n",
       "        vertical-align: top;\n",
       "    }\n",
       "\n",
       "    .dataframe thead th {\n",
       "        text-align: right;\n",
       "    }\n",
       "</style>\n",
       "<table border=\"1\" class=\"dataframe\">\n",
       "  <thead>\n",
       "    <tr style=\"text-align: right;\">\n",
       "      <th></th>\n",
       "      <th>origin_text</th>\n",
       "      <th>Cleaned_Text</th>\n",
       "    </tr>\n",
       "  </thead>\n",
       "  <tbody>\n",
       "    <tr>\n",
       "      <th>0</th>\n",
       "      <td>First Citizen</td>\n",
       "      <td>First Citizen</td>\n",
       "    </tr>\n",
       "    <tr>\n",
       "      <th>1</th>\n",
       "      <td>Before we proceed any further hear me speak</td>\n",
       "      <td>Before we proceed any further hear me speak</td>\n",
       "    </tr>\n",
       "    <tr>\n",
       "      <th>2</th>\n",
       "      <td>All</td>\n",
       "      <td>All</td>\n",
       "    </tr>\n",
       "    <tr>\n",
       "      <th>3</th>\n",
       "      <td>Speak speak</td>\n",
       "      <td>Speak speak</td>\n",
       "    </tr>\n",
       "    <tr>\n",
       "      <th>4</th>\n",
       "      <td>First Citizen</td>\n",
       "      <td>First Citizen</td>\n",
       "    </tr>\n",
       "    <tr>\n",
       "      <th>...</th>\n",
       "      <td>...</td>\n",
       "      <td>...</td>\n",
       "    </tr>\n",
       "    <tr>\n",
       "      <th>29237</th>\n",
       "      <td>Talk not to me I will go sit and weep</td>\n",
       "      <td>Talk not to me I will go sit and weep</td>\n",
       "    </tr>\n",
       "    <tr>\n",
       "      <th>29238</th>\n",
       "      <td>Till I can find occasion of revenge</td>\n",
       "      <td>Till I can find occasion of revenge</td>\n",
       "    </tr>\n",
       "    <tr>\n",
       "      <th>29239</th>\n",
       "      <td>BAPTISTA</td>\n",
       "      <td>BAPTISTA</td>\n",
       "    </tr>\n",
       "    <tr>\n",
       "      <th>29240</th>\n",
       "      <td>Was ever gentleman thus grieved as I</td>\n",
       "      <td>Was ever gentleman thus grieved as I</td>\n",
       "    </tr>\n",
       "    <tr>\n",
       "      <th>29241</th>\n",
       "      <td>But who comes here</td>\n",
       "      <td>But who comes here</td>\n",
       "    </tr>\n",
       "  </tbody>\n",
       "</table>\n",
       "<p>29242 rows × 2 columns</p>\n",
       "</div>"
      ]
     },
     "execution_count": 8,
     "metadata": {},
     "output_type": "execute_result"
    }
   ],
   "execution_count": 8
  },
  {
   "metadata": {},
   "cell_type": "markdown",
   "source": "The unique values 21461 and 21454 shown in your DataFrame's `describe()` output represent the number of unique rows (sentences or text entries), **not** characters or words. Each row is typically a sentence or document, so these numbers count unique text entries in your dataset.",
   "id": "8ed73a3064021ad6"
  },
  {
   "metadata": {
    "ExecuteTime": {
     "end_time": "2025-08-27T07:57:07.606491Z",
     "start_time": "2025-08-27T07:57:06.160117Z"
    }
   },
   "cell_type": "code",
   "source": [
    "df_test1['Cleaned_Text'] = remove_named_entities_batch(df_test1['origin_text'])\n",
    "\n",
    "df_test1"
   ],
   "id": "2449924431b20e1a",
   "outputs": [
    {
     "data": {
      "text/plain": [
       "                                        origin_text  \\\n",
       "0                                        rance taen   \n",
       "1        As shall with either parts agreement stand   \n",
       "2                                          BAPTISTA   \n",
       "3             Not in my house Lucentio for you know   \n",
       "4       Pitchers have ears and I have many servants   \n",
       "...                                             ...   \n",
       "1829                         And yet so fast asleep   \n",
       "1830                                        ANTONIO   \n",
       "1831                                Noble Sebastian   \n",
       "1832  Thou letst thy fortune sleepdie rather winkst   \n",
       "1833                         Whiles thou art waking   \n",
       "\n",
       "                                       Cleaned_Text  \n",
       "0                                        rance taen  \n",
       "1        As shall with either parts agreement stand  \n",
       "2                                          BAPTISTA  \n",
       "3                     Not in my house  for you know  \n",
       "4       Pitchers have ears and I have many servants  \n",
       "...                                             ...  \n",
       "1829                         And yet so fast asleep  \n",
       "1830                                        ANTONIO  \n",
       "1831                                Noble Sebastian  \n",
       "1832  Thou letst thy fortune sleepdie rather winkst  \n",
       "1833                         Whiles thou art waking  \n",
       "\n",
       "[1834 rows x 2 columns]"
      ],
      "text/html": [
       "<div>\n",
       "<style scoped>\n",
       "    .dataframe tbody tr th:only-of-type {\n",
       "        vertical-align: middle;\n",
       "    }\n",
       "\n",
       "    .dataframe tbody tr th {\n",
       "        vertical-align: top;\n",
       "    }\n",
       "\n",
       "    .dataframe thead th {\n",
       "        text-align: right;\n",
       "    }\n",
       "</style>\n",
       "<table border=\"1\" class=\"dataframe\">\n",
       "  <thead>\n",
       "    <tr style=\"text-align: right;\">\n",
       "      <th></th>\n",
       "      <th>origin_text</th>\n",
       "      <th>Cleaned_Text</th>\n",
       "    </tr>\n",
       "  </thead>\n",
       "  <tbody>\n",
       "    <tr>\n",
       "      <th>0</th>\n",
       "      <td>rance taen</td>\n",
       "      <td>rance taen</td>\n",
       "    </tr>\n",
       "    <tr>\n",
       "      <th>1</th>\n",
       "      <td>As shall with either parts agreement stand</td>\n",
       "      <td>As shall with either parts agreement stand</td>\n",
       "    </tr>\n",
       "    <tr>\n",
       "      <th>2</th>\n",
       "      <td>BAPTISTA</td>\n",
       "      <td>BAPTISTA</td>\n",
       "    </tr>\n",
       "    <tr>\n",
       "      <th>3</th>\n",
       "      <td>Not in my house Lucentio for you know</td>\n",
       "      <td>Not in my house  for you know</td>\n",
       "    </tr>\n",
       "    <tr>\n",
       "      <th>4</th>\n",
       "      <td>Pitchers have ears and I have many servants</td>\n",
       "      <td>Pitchers have ears and I have many servants</td>\n",
       "    </tr>\n",
       "    <tr>\n",
       "      <th>...</th>\n",
       "      <td>...</td>\n",
       "      <td>...</td>\n",
       "    </tr>\n",
       "    <tr>\n",
       "      <th>1829</th>\n",
       "      <td>And yet so fast asleep</td>\n",
       "      <td>And yet so fast asleep</td>\n",
       "    </tr>\n",
       "    <tr>\n",
       "      <th>1830</th>\n",
       "      <td>ANTONIO</td>\n",
       "      <td>ANTONIO</td>\n",
       "    </tr>\n",
       "    <tr>\n",
       "      <th>1831</th>\n",
       "      <td>Noble Sebastian</td>\n",
       "      <td>Noble Sebastian</td>\n",
       "    </tr>\n",
       "    <tr>\n",
       "      <th>1832</th>\n",
       "      <td>Thou letst thy fortune sleepdie rather winkst</td>\n",
       "      <td>Thou letst thy fortune sleepdie rather winkst</td>\n",
       "    </tr>\n",
       "    <tr>\n",
       "      <th>1833</th>\n",
       "      <td>Whiles thou art waking</td>\n",
       "      <td>Whiles thou art waking</td>\n",
       "    </tr>\n",
       "  </tbody>\n",
       "</table>\n",
       "<p>1834 rows × 2 columns</p>\n",
       "</div>"
      ]
     },
     "execution_count": 9,
     "metadata": {},
     "output_type": "execute_result"
    }
   ],
   "execution_count": 9
  },
  {
   "metadata": {
    "ExecuteTime": {
     "end_time": "2025-08-27T07:57:09.197066Z",
     "start_time": "2025-08-27T07:57:07.730761Z"
    }
   },
   "cell_type": "code",
   "source": [
    "df_validation1['Cleaned_Text'] = remove_named_entities_batch(df_validation1['origin_text'])\n",
    "\n",
    "df_validation1"
   ],
   "id": "45524b2dabc349fa",
   "outputs": [
    {
     "data": {
      "text/plain": [
       "                                       origin_text  \\\n",
       "0                                           GREMIO   \n",
       "1                   Good morrow neighbour Baptista   \n",
       "2                                         BAPTISTA   \n",
       "3                     Good morrow neighbour Gremio   \n",
       "4                           God save you gentlemen   \n",
       "...                                            ...   \n",
       "1697             The match is made and all is done   \n",
       "1698  Your son shall have my daughter with consent   \n",
       "1699                                        TRANIO   \n",
       "1700   I thank you sir Where then do you know best   \n",
       "1701                    We be affied and such assu   \n",
       "\n",
       "                                      Cleaned_Text  \n",
       "0                                           GREMIO  \n",
       "1                           Good morrow neighbour   \n",
       "2                                         BAPTISTA  \n",
       "3                     Good morrow neighbour Gremio  \n",
       "4                           God save you gentlemen  \n",
       "...                                            ...  \n",
       "1697             The match is made and all is done  \n",
       "1698  Your son shall have my daughter with consent  \n",
       "1699                                        TRANIO  \n",
       "1700   I thank you sir Where then do you know best  \n",
       "1701                        We be affied and such   \n",
       "\n",
       "[1702 rows x 2 columns]"
      ],
      "text/html": [
       "<div>\n",
       "<style scoped>\n",
       "    .dataframe tbody tr th:only-of-type {\n",
       "        vertical-align: middle;\n",
       "    }\n",
       "\n",
       "    .dataframe tbody tr th {\n",
       "        vertical-align: top;\n",
       "    }\n",
       "\n",
       "    .dataframe thead th {\n",
       "        text-align: right;\n",
       "    }\n",
       "</style>\n",
       "<table border=\"1\" class=\"dataframe\">\n",
       "  <thead>\n",
       "    <tr style=\"text-align: right;\">\n",
       "      <th></th>\n",
       "      <th>origin_text</th>\n",
       "      <th>Cleaned_Text</th>\n",
       "    </tr>\n",
       "  </thead>\n",
       "  <tbody>\n",
       "    <tr>\n",
       "      <th>0</th>\n",
       "      <td>GREMIO</td>\n",
       "      <td>GREMIO</td>\n",
       "    </tr>\n",
       "    <tr>\n",
       "      <th>1</th>\n",
       "      <td>Good morrow neighbour Baptista</td>\n",
       "      <td>Good morrow neighbour</td>\n",
       "    </tr>\n",
       "    <tr>\n",
       "      <th>2</th>\n",
       "      <td>BAPTISTA</td>\n",
       "      <td>BAPTISTA</td>\n",
       "    </tr>\n",
       "    <tr>\n",
       "      <th>3</th>\n",
       "      <td>Good morrow neighbour Gremio</td>\n",
       "      <td>Good morrow neighbour Gremio</td>\n",
       "    </tr>\n",
       "    <tr>\n",
       "      <th>4</th>\n",
       "      <td>God save you gentlemen</td>\n",
       "      <td>God save you gentlemen</td>\n",
       "    </tr>\n",
       "    <tr>\n",
       "      <th>...</th>\n",
       "      <td>...</td>\n",
       "      <td>...</td>\n",
       "    </tr>\n",
       "    <tr>\n",
       "      <th>1697</th>\n",
       "      <td>The match is made and all is done</td>\n",
       "      <td>The match is made and all is done</td>\n",
       "    </tr>\n",
       "    <tr>\n",
       "      <th>1698</th>\n",
       "      <td>Your son shall have my daughter with consent</td>\n",
       "      <td>Your son shall have my daughter with consent</td>\n",
       "    </tr>\n",
       "    <tr>\n",
       "      <th>1699</th>\n",
       "      <td>TRANIO</td>\n",
       "      <td>TRANIO</td>\n",
       "    </tr>\n",
       "    <tr>\n",
       "      <th>1700</th>\n",
       "      <td>I thank you sir Where then do you know best</td>\n",
       "      <td>I thank you sir Where then do you know best</td>\n",
       "    </tr>\n",
       "    <tr>\n",
       "      <th>1701</th>\n",
       "      <td>We be affied and such assu</td>\n",
       "      <td>We be affied and such</td>\n",
       "    </tr>\n",
       "  </tbody>\n",
       "</table>\n",
       "<p>1702 rows × 2 columns</p>\n",
       "</div>"
      ]
     },
     "execution_count": 10,
     "metadata": {},
     "output_type": "execute_result"
    }
   ],
   "execution_count": 10
  },
  {
   "metadata": {
    "ExecuteTime": {
     "end_time": "2025-08-27T07:57:09.373310Z",
     "start_time": "2025-08-27T07:57:09.370182Z"
    }
   },
   "cell_type": "code",
   "source": [
    "import re\n",
    "\n",
    "def tokenize_text(text):\n",
    "    return re.split(r\"\\W+\", text.lower())"
   ],
   "id": "5dd5bf0a85a13a1a",
   "outputs": [],
   "execution_count": 11
  },
  {
   "metadata": {
    "ExecuteTime": {
     "end_time": "2025-08-27T07:57:09.475991Z",
     "start_time": "2025-08-27T07:57:09.410769Z"
    }
   },
   "cell_type": "code",
   "source": [
    "# Apply to each row in the Series\n",
    "tokens_train = df_train1['Cleaned_Text'].apply(tokenize_text)\n",
    "tokens_train\n"
   ],
   "id": "48569975beddce0e",
   "outputs": [
    {
     "data": {
      "text/plain": [
       "0                                         [first, citizen]\n",
       "1        [before, we, proceed, any, further, hear, me, ...\n",
       "2                                                    [all]\n",
       "3                                           [speak, speak]\n",
       "4                                         [first, citizen]\n",
       "                               ...                        \n",
       "29237     [talk, not, to, me, i, will, go, sit, and, weep]\n",
       "29238          [till, i, can, find, occasion, of, revenge]\n",
       "29239                                           [baptista]\n",
       "29240         [was, ever, gentleman, thus, grieved, as, i]\n",
       "29241                              [but, who, comes, here]\n",
       "Name: Cleaned_Text, Length: 29242, dtype: object"
      ]
     },
     "execution_count": 12,
     "metadata": {},
     "output_type": "execute_result"
    }
   ],
   "execution_count": 12
  },
  {
   "metadata": {
    "ExecuteTime": {
     "end_time": "2025-08-27T07:57:09.518812Z",
     "start_time": "2025-08-27T07:57:09.510103Z"
    }
   },
   "cell_type": "code",
   "source": [
    "tokens_test = df_test1['Cleaned_Text'].apply(tokenize_text)\n",
    "tokens_test"
   ],
   "id": "771f14bee6250a3f",
   "outputs": [
    {
     "data": {
      "text/plain": [
       "0                                           [rance, taen]\n",
       "1       [as, shall, with, either, parts, agreement, st...\n",
       "2                                              [baptista]\n",
       "3                    [not, in, my, house, for, you, know]\n",
       "4       [pitchers, have, ears, and, i, have, many, ser...\n",
       "                              ...                        \n",
       "1829                         [and, yet, so, fast, asleep]\n",
       "1830                                            [antonio]\n",
       "1831                                   [noble, sebastian]\n",
       "1832    [thou, letst, thy, fortune, sleepdie, rather, ...\n",
       "1833                          [whiles, thou, art, waking]\n",
       "Name: Cleaned_Text, Length: 1834, dtype: object"
      ]
     },
     "execution_count": 13,
     "metadata": {},
     "output_type": "execute_result"
    }
   ],
   "execution_count": 13
  },
  {
   "metadata": {
    "ExecuteTime": {
     "end_time": "2025-08-27T07:57:09.761419Z",
     "start_time": "2025-08-27T07:57:09.752248Z"
    }
   },
   "cell_type": "code",
   "source": [
    "tokens_validation = df_validation1['Cleaned_Text'].apply(tokenize_text)\n",
    "tokens_validation"
   ],
   "id": "6ab6d48f1d16bf45",
   "outputs": [
    {
     "data": {
      "text/plain": [
       "0                                                [gremio]\n",
       "1                             [good, morrow, neighbour, ]\n",
       "2                                              [baptista]\n",
       "3                       [good, morrow, neighbour, gremio]\n",
       "4                             [god, save, you, gentlemen]\n",
       "                              ...                        \n",
       "1697           [the, match, is, made, and, all, is, done]\n",
       "1698    [your, son, shall, have, my, daughter, with, c...\n",
       "1699                                             [tranio]\n",
       "1700    [i, thank, you, sir, where, then, do, you, kno...\n",
       "1701                        [we, be, affied, and, such, ]\n",
       "Name: Cleaned_Text, Length: 1702, dtype: object"
      ]
     },
     "execution_count": 14,
     "metadata": {},
     "output_type": "execute_result"
    }
   ],
   "execution_count": 14
  },
  {
   "metadata": {
    "ExecuteTime": {
     "end_time": "2025-08-27T07:57:10.746217Z",
     "start_time": "2025-08-27T07:57:09.803740Z"
    }
   },
   "cell_type": "code",
   "source": [
    "import string\n",
    "import nltk\n",
    "\n",
    "from string import punctuation\n",
    "from nltk.corpus import stopwords\n",
    "nltk.download('stopwords')\n",
    "stop_words = set(stopwords.words('english'))\n",
    "punctuation = set(string.punctuation)"
   ],
   "id": "6a55f174ef95c9ae",
   "outputs": [
    {
     "name": "stderr",
     "output_type": "stream",
     "text": [
      "[nltk_data] Downloading package stopwords to\n",
      "[nltk_data]     C:\\Users\\mihai\\AppData\\Roaming\\nltk_data...\n",
      "[nltk_data]   Package stopwords is already up-to-date!\n"
     ]
    }
   ],
   "execution_count": 15
  },
  {
   "metadata": {
    "ExecuteTime": {
     "end_time": "2025-08-27T07:57:10.795526Z",
     "start_time": "2025-08-27T07:57:10.792088Z"
    }
   },
   "cell_type": "code",
   "source": [
    "def filter_tokens(tokens, stop_words, punctuation):\n",
    "    return [word for word in tokens if word.lower() not in stop_words]"
   ],
   "id": "9939efcc297badc2",
   "outputs": [],
   "execution_count": 16
  },
  {
   "metadata": {
    "ExecuteTime": {
     "end_time": "2025-08-27T07:57:10.851374Z",
     "start_time": "2025-08-27T07:57:10.816040Z"
    }
   },
   "cell_type": "code",
   "source": [
    "clean_train_tokens1 = tokens_train.apply(lambda tokens: filter_tokens(tokens, stop_words, punctuation))\n",
    "clean_test_tokens1 = tokens_test.apply(lambda tokens: filter_tokens(tokens, stop_words, punctuation))\n",
    "clean_validation_tokens1 = tokens_validation.apply(lambda tokens: filter_tokens(tokens, stop_words, punctuation))\n",
    "\n",
    "clean_validation_tokens1"
   ],
   "id": "d543f87d28f2c04",
   "outputs": [
    {
     "data": {
      "text/plain": [
       "0                                [gremio]\n",
       "1             [good, morrow, neighbour, ]\n",
       "2                              [baptista]\n",
       "3       [good, morrow, neighbour, gremio]\n",
       "4                  [god, save, gentlemen]\n",
       "                      ...                \n",
       "1697                  [match, made, done]\n",
       "1698      [son, shall, daughter, consent]\n",
       "1699                             [tranio]\n",
       "1700             [thank, sir, know, best]\n",
       "1701                           [affied, ]\n",
       "Name: Cleaned_Text, Length: 1702, dtype: object"
      ]
     },
     "execution_count": 17,
     "metadata": {},
     "output_type": "execute_result"
    }
   ],
   "execution_count": 17
  },
  {
   "metadata": {
    "ExecuteTime": {
     "end_time": "2025-08-27T07:57:10.994578Z",
     "start_time": "2025-08-27T07:57:10.982882Z"
    }
   },
   "cell_type": "code",
   "source": [
    "# Remove rows where the token list is empty\n",
    "clean_test_tokens1 = clean_test_tokens1[clean_test_tokens1.apply(lambda x: len(x) > 0)]\n",
    "clean_train_tokens1 = clean_train_tokens1[clean_train_tokens1.apply(lambda x: len(x) > 0)]\n",
    "clean_validation_tokens1 = clean_validation_tokens1[clean_validation_tokens1.apply(lambda x: len(x) > 0)]\n",
    "\n",
    "clean_validation_tokens1"
   ],
   "id": "af8c41b4a1daf129",
   "outputs": [
    {
     "data": {
      "text/plain": [
       "0                                [gremio]\n",
       "1             [good, morrow, neighbour, ]\n",
       "2                              [baptista]\n",
       "3       [good, morrow, neighbour, gremio]\n",
       "4                  [god, save, gentlemen]\n",
       "                      ...                \n",
       "1697                  [match, made, done]\n",
       "1698      [son, shall, daughter, consent]\n",
       "1699                             [tranio]\n",
       "1700             [thank, sir, know, best]\n",
       "1701                           [affied, ]\n",
       "Name: Cleaned_Text, Length: 1690, dtype: object"
      ]
     },
     "execution_count": 18,
     "metadata": {},
     "output_type": "execute_result"
    }
   ],
   "execution_count": 18
  },
  {
   "metadata": {},
   "cell_type": "markdown",
   "source": [
    "This code filters out stopwords and punctuation from tokenized text.<br>\n",
    "\n",
    "- `train_tokens` is a Series where each row contains a list of tokens (words) from the original text.<br>\n",
    "- The `apply` method runs a lambda function on each list of tokens.<br>\n",
    "- For each token, it checks:<br>\n",
    "  - If the lowercase word is **not** in the set of English stopwords (`stop_words`)<br>\n",
    "  - If the word is **not** in the set of punctuation characters (`punctuation`)<br>\n",
    "- Only tokens passing both checks are kept.\n",
    "\n",
    "The result, `clean_t_tokens`, is a Series of lists containing only meaningful words from each row, with stopwords and punctuation removed."
   ],
   "id": "3eac5fb0f037e443"
  },
  {
   "metadata": {
    "ExecuteTime": {
     "end_time": "2025-08-27T07:57:11.145836Z",
     "start_time": "2025-08-27T07:57:11.142926Z"
    }
   },
   "cell_type": "code",
   "source": [
    "def lower_word(tokens):\n",
    "    return [word.lower() for word in tokens]"
   ],
   "id": "34f1dc68a7c8c694",
   "outputs": [],
   "execution_count": 19
  },
  {
   "metadata": {
    "ExecuteTime": {
     "end_time": "2025-08-27T07:57:11.208397Z",
     "start_time": "2025-08-27T07:57:11.183037Z"
    }
   },
   "cell_type": "code",
   "source": [
    "# Lowercase all tokens in each list\n",
    "clean_train_tokens2 = clean_train_tokens1.apply(lambda tokens: lower_word(tokens))\n",
    "clean_test_tokens2 = clean_test_tokens1.apply(lambda tokens: lower_word(tokens))\n",
    "clean_validation_tokens2 = clean_validation_tokens1.apply(lambda tokens: lower_word(tokens))\n",
    "clean_train_tokens2"
   ],
   "id": "1129daa2e1aa3b0c",
   "outputs": [
    {
     "data": {
      "text/plain": [
       "0                        [first, citizen]\n",
       "1                  [proceed, hear, speak]\n",
       "3                          [speak, speak]\n",
       "4                        [first, citizen]\n",
       "5         [resolved, rather, die, famish]\n",
       "                       ...               \n",
       "29237               [talk, go, sit, weep]\n",
       "29238     [till, find, occasion, revenge]\n",
       "29239                          [baptista]\n",
       "29240    [ever, gentleman, thus, grieved]\n",
       "29241                             [comes]\n",
       "Name: Cleaned_Text, Length: 29062, dtype: object"
      ]
     },
     "execution_count": 20,
     "metadata": {},
     "output_type": "execute_result"
    }
   ],
   "execution_count": 20
  },
  {
   "metadata": {
    "ExecuteTime": {
     "end_time": "2025-08-27T07:57:13.717569Z",
     "start_time": "2025-08-27T07:57:11.263997Z"
    }
   },
   "cell_type": "code",
   "source": [
    "from nltk.stem import PorterStemmer, WordNetLemmatizer\n",
    "\n",
    "stemmer = PorterStemmer()\n",
    "lemmatizer = WordNetLemmatizer()\n",
    "\n",
    "def stem_and_lemmatize_tokens(token_series, stemmer, lemmatizer):\n",
    "    \"\"\"\n",
    "    Applies stemming and lemmatization to each list of tokens in a pandas Series.\n",
    "\n",
    "    Args:\n",
    "        token_series: pandas Series of lists of tokens.\n",
    "        stemmer: an instance of a stemmer (e.g., PorterStemmer).\n",
    "        lemmatizer: an instance of a lemmatizer (e.g., WordNetLemmatizer).\n",
    "\n",
    "    Returns:\n",
    "        stemmed_tokens: Series of stemmed token lists.\n",
    "        lemmatized_tokens: Series of lemmatized token lists.\n",
    "    \"\"\"\n",
    "    stemmed_tokens = token_series.apply(lambda tokens: [stemmer.stem(word) for word in tokens])\n",
    "    lemmatized_tokens = token_series.apply(lambda tokens: [lemmatizer.lemmatize(word) for word in tokens])\n",
    "    return stemmed_tokens, lemmatized_tokens\n",
    "\n",
    "# Apply stemming and lemmatization to each token in each list\n",
    "stemmed_train, lemmatized_train = stem_and_lemmatize_tokens(clean_train_tokens2, stemmer, lemmatizer)\n",
    "\n",
    "stemmed_test, lemmatized_test = stem_and_lemmatize_tokens(clean_test_tokens2, stemmer, lemmatizer)\n",
    "\n",
    "stemmed_validation, lemmatized_validation = stem_and_lemmatize_tokens(clean_validation_tokens2, stemmer, lemmatizer)\n",
    "\n",
    "print(stemmed_train.head())\n",
    "print(lemmatized_train.head())\n"
   ],
   "id": "253c634d885b578a",
   "outputs": [
    {
     "name": "stdout",
     "output_type": "stream",
     "text": [
      "0                 [first, citizen]\n",
      "1           [proceed, hear, speak]\n",
      "3                   [speak, speak]\n",
      "4                 [first, citizen]\n",
      "5    [resolv, rather, die, famish]\n",
      "Name: Cleaned_Text, dtype: object\n",
      "0                   [first, citizen]\n",
      "1             [proceed, hear, speak]\n",
      "3                     [speak, speak]\n",
      "4                   [first, citizen]\n",
      "5    [resolved, rather, die, famish]\n",
      "Name: Cleaned_Text, dtype: object\n"
     ]
    }
   ],
   "execution_count": 21
  },
  {
   "metadata": {
    "ExecuteTime": {
     "end_time": "2025-08-27T07:57:13.787837Z",
     "start_time": "2025-08-27T07:57:13.783368Z"
    }
   },
   "cell_type": "code",
   "source": [
    "#In sentences\n",
    "raw_text = \"Before we proceed any further, hear me speak.\"\n",
    "text_stem = \" \".join([stemmer.stem(word) for word in raw_text.split()])\n",
    "text_lemma = \" \".join([lemmatizer.lemmatize(word) for word in raw_text.split()])\n",
    "print(\"Stemmed Text:\", text_stem)\n",
    "print(\"Lemmatized Text:\", text_lemma)"
   ],
   "id": "369681795e90ae59",
   "outputs": [
    {
     "name": "stdout",
     "output_type": "stream",
     "text": [
      "Stemmed Text: befor we proceed ani further, hear me speak.\n",
      "Lemmatized Text: Before we proceed any further, hear me speak.\n"
     ]
    }
   ],
   "execution_count": 22
  },
  {
   "metadata": {},
   "cell_type": "markdown",
   "source": [
    "AI Overview<br>\n",
    "Tokenizing an NLP dataset row by row is a common and often necessary approach, but the optimal method depends on the specific context and tools being used.<br>\n",
    "Why row-by-row (or batch processing) is common:<br>\n",
    "Individual text units:<br>\n",
    ".\n",
    "Each row in a dataset often represents a distinct unit of text (e.g., a sentence, a document, a social media post) that needs to be processed independently for tasks like sentiment analysis, text classification, or machine translation.<br>\n",
    "Applying a tokenizer:<br>\n",
    ".\n",
    "Tokenizers from libraries like Hugging Face Transformers, NLTK, or spaCy are designed to process individual text inputs or batches of inputs. Applying them row by row ensures each text unit is correctly broken down into tokens according to the chosen tokenization strategy (word, subword, character).<br>\n",
    "Memory management:<br>\n",
    ".\n",
    "Processing large datasets all at once can be memory-intensive. Tokenizing row by row, or in small batches, helps manage memory efficiently, especially when dealing with very long texts or a massive number of rows.<br>\n",
    "Considerations for efficiency:<br>\n",
    "Batching for speed:<br>\n",
    "While \"row by row\" implies individual processing, modern NLP libraries often support batch processing for efficiency. This means you can process multiple rows simultaneously within a single tokenizer call, which significantly speeds up the tokenization of large datasets. Libraries like Hugging Face Datasets and their map function with batched=True are designed for this.<br>\n",
    "Parallel processing:<br>\n",
    "For extremely large datasets, consider using parallel processing techniques (e.g., Python's multiprocessing module, Dask) to distribute the tokenization workload across multiple CPU cores.<br>\n",
    "Pre-trained tokenizers:<br>\n",
    "If using pre-trained models, their associated tokenizers are optimized for efficiency and often handle batching internally.<br>\n",
    "In summary:<br>\n",
    "Tokenizing an NLP dataset involves breaking down text into smaller units (tokens). While the conceptual approach is to process each text unit (often a row), for practical efficiency, especially with large datasets, batching is highly recommended over strictly processing one row at a time. Utilize the batching capabilities of your chosen NLP library or implement parallel processing for optimal performance."
   ],
   "id": "434c260a35d71d32"
  },
  {
   "metadata": {},
   "cell_type": "markdown",
   "source": [
    "AI Overview<br>\n",
    "The decision of whether to remove punctuation before or after tokenization in Python depends on the specific goals of the Natural Language Processing (NLP) task.<br>\n",
    "Removing punctuation before tokenization:<br>\n",
    "Simplifies tokenization:<br>\n",
    "When punctuation is removed beforehand, tokenization becomes more straightforward as the tokenizer primarily focuses on splitting text based on whitespace or other defined delimiters, without needing to handle punctuation as separate tokens or attached to words.<br>\n",
    "Reduces noise and dimensionality:<br>\n",
    "Punctuation marks often carry little semantic meaning for many NLP tasks (e.g., text classification, topic modeling) and can increase the number of unique tokens, leading to higher dimensionality in feature representation. Removing them pre-tokenization can reduce noise and improve model efficiency.<br>\n",
    "Ensures consistent word forms:<br>\n",
    "Words like \"hello\" and \"hello!\" would be treated as distinct tokens if punctuation is not removed, potentially leading to less accurate analysis. Removing punctuation ensures these are treated as the same base word.<br>\n",
    "Removing punctuation after tokenization (or handling it during tokenization):<br>\n",
    "Preserves specific information:<br>\n",
    "In certain NLP tasks, punctuation can be crucial. For example, in sentiment analysis, exclamation marks or question marks can indicate strong emotions. In Named Entity Recognition, hyphens in compound words (e.g., \"state-of-the-art\") might need to be preserved to correctly identify entities.<br>\n",
    "Allows for more nuanced analysis:<br>\n",
    "If the task requires understanding the grammatical structure or stylistic elements of the text, keeping punctuation (or treating it as separate tokens) might be necessary.<br>\n",
    "General Recommendation:<br>\n",
    "For most general-purpose NLP tasks where the focus is on word content rather than specific punctuation nuances, removing punctuation before tokenization is the more common and often recommended approach. This simplifies the data and generally leads to better performance for tasks like text classification, information retrieval, and basic text analysis."
   ],
   "id": "3919d5bd6282b2cb"
  }
 ],
 "metadata": {
  "kernelspec": {
   "display_name": "Python 3",
   "language": "python",
   "name": "python3"
  },
  "language_info": {
   "codemirror_mode": {
    "name": "ipython",
    "version": 2
   },
   "file_extension": ".py",
   "mimetype": "text/x-python",
   "name": "python",
   "nbconvert_exporter": "python",
   "pygments_lexer": "ipython2",
   "version": "2.7.6"
  }
 },
 "nbformat": 4,
 "nbformat_minor": 5
}
